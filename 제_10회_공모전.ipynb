{
  "cells": [
    {
      "cell_type": "markdown",
      "metadata": {
        "id": "view-in-github",
        "colab_type": "text"
      },
      "source": [
        "<a href=\"https://colab.research.google.com/github/yusongod0303/Contest_exhibit/blob/main/%EC%A0%9C_10%ED%9A%8C_%EA%B3%B5%EB%AA%A8%EC%A0%84.ipynb\" target=\"_parent\"><img src=\"https://colab.research.google.com/assets/colab-badge.svg\" alt=\"Open In Colab\"/></a>"
      ]
    },
    {
      "cell_type": "markdown",
      "id": "5f334c2b",
      "metadata": {
        "id": "5f334c2b"
      },
      "source": [
        "<H1>접속반 단자대 온도 예측모델</H1>\n",
        "\n",
        " 원격지에 위치한 신재생e 설비(태양광)는 최근 3년간 전기적 요인에 의해 발생한 화재에서 발화지점이 접속반인 건이 전체 비율에 48%를 차지하고 있어  \n",
        " 접속반 단자대의 높은 온도 상승 및 결로 현상을 통해 접속반 내부의 스파크 발생이 화재의 원인으로 추정 되고 있다.\n"
      ]
    },
    {
      "cell_type": "markdown",
      "id": "329811dc-b6c9-43f6-a42b-576aad67c50c",
      "metadata": {
        "id": "329811dc-b6c9-43f6-a42b-576aad67c50c"
      },
      "source": [
        "# 1.Data 전처리"
      ]
    },
    {
      "cell_type": "code",
      "execution_count": null,
      "id": "83b89698-850e-457a-858d-99f91ef0f1dd",
      "metadata": {
        "id": "83b89698-850e-457a-858d-99f91ef0f1dd"
      },
      "outputs": [],
      "source": [
        "# Module Loading\n",
        "import numpy as np\n",
        "import pandas as pd\n",
        "from matplotlib import pyplot as plt\n",
        "import warnings\n",
        "\n",
        "from functools import reduce\n",
        "from sklearn.model_selection import train_test_split\n",
        "from sklearn.linear_model import LinearRegression\n",
        "from sklearn.metrics import mean_squared_error, r2_score\n",
        "from sklearn.ensemble import RandomForestRegressor\n",
        "\n",
        "import matplotlib.pyplot as plt\n",
        "import matplotlib.image as img\n",
        "import matplotlib\n",
        "%matplotlib inline\n",
        "\n",
        "# 음수 깨지지 않게\n",
        "matplotlib.rcParams['axes.unicode_minus'] = False"
      ]
    },
    {
      "cell_type": "code",
      "execution_count": null,
      "id": "8bde6f5d-a0d1-445a-8978-079656c8cfc5",
      "metadata": {
        "id": "8bde6f5d-a0d1-445a-8978-079656c8cfc5"
      },
      "outputs": [],
      "source": [
        "warnings.filterwarnings('ignore')\n",
        "# Chart에서 한글쓰기\n",
        "plt.rc('font',family='Malgun Gothic')"
      ]
    },
    {
      "cell_type": "markdown",
      "id": "4bfbbe07",
      "metadata": {
        "id": "4bfbbe07"
      },
      "source": [
        "## 1.1 제공 데이터 확인"
      ]
    },
    {
      "cell_type": "code",
      "execution_count": null,
      "id": "6ff048a1-7818-4668-913f-51ccb6b82863",
      "metadata": {
        "id": "6ff048a1-7818-4668-913f-51ccb6b82863",
        "outputId": "584ebf95-f0d7-42ac-8082-4e6208b02c6e"
      },
      "outputs": [
        {
          "data": {
            "text/html": [
              "<div>\n",
              "<style scoped>\n",
              "    .dataframe tbody tr th:only-of-type {\n",
              "        vertical-align: middle;\n",
              "    }\n",
              "\n",
              "    .dataframe tbody tr th {\n",
              "        vertical-align: top;\n",
              "    }\n",
              "\n",
              "    .dataframe thead th {\n",
              "        text-align: right;\n",
              "    }\n",
              "</style>\n",
              "<table border=\"1\" class=\"dataframe\">\n",
              "  <thead>\n",
              "    <tr style=\"text-align: right;\">\n",
              "      <th></th>\n",
              "      <th>건수</th>\n",
              "      <th>주기</th>\n",
              "      <th>활용여부</th>\n",
              "      <th>기간</th>\n",
              "      <th>설명</th>\n",
              "    </tr>\n",
              "  </thead>\n",
              "  <tbody>\n",
              "    <tr>\n",
              "      <th>df_connectbox_day</th>\n",
              "      <td>92044</td>\n",
              "      <td>1h</td>\n",
              "      <td>o</td>\n",
              "      <td>21/01/01/05:00~ 22/03/30/09:00</td>\n",
              "      <td>시간당 접속반의 Data</td>\n",
              "    </tr>\n",
              "    <tr>\n",
              "      <th>df_connectbox</th>\n",
              "      <td>4227340</td>\n",
              "      <td>1m</td>\n",
              "      <td>o</td>\n",
              "      <td>21/01/01/05:00~ 22/03/30/09:55</td>\n",
              "      <td>분당 접속반의 Data</td>\n",
              "    </tr>\n",
              "    <tr>\n",
              "      <th>th_digitalmeter</th>\n",
              "      <td>1300970</td>\n",
              "      <td>1m</td>\n",
              "      <td>x</td>\n",
              "      <td>21/01/01/05:00~ 22/03/30/09:55</td>\n",
              "      <td>분당 차단기의 Data</td>\n",
              "    </tr>\n",
              "    <tr>\n",
              "      <th>th_digitalmeter_day</th>\n",
              "      <td>28766</td>\n",
              "      <td>1h</td>\n",
              "      <td>x</td>\n",
              "      <td>21/01/01/05:00~ 22/03/30/09:00</td>\n",
              "      <td>시간당 차단기의 Data</td>\n",
              "    </tr>\n",
              "    <tr>\n",
              "      <th>th_event</th>\n",
              "      <td>5463</td>\n",
              "      <td>1m</td>\n",
              "      <td>x</td>\n",
              "      <td>21/01/01/05:00~ 22/03/30/09:55</td>\n",
              "      <td>분당 이벤트 Data</td>\n",
              "    </tr>\n",
              "    <tr>\n",
              "      <th>th_inverter</th>\n",
              "      <td>878236</td>\n",
              "      <td>1m</td>\n",
              "      <td>x</td>\n",
              "      <td>21/01/01/05:00~ 22/03/30/09:55</td>\n",
              "      <td>분당 인버터의 Data</td>\n",
              "    </tr>\n",
              "    <tr>\n",
              "      <th>th_inverter_day</th>\n",
              "      <td>15133</td>\n",
              "      <td>1h</td>\n",
              "      <td>x</td>\n",
              "      <td>21/01/01/05:00~ 22/03/30/09:00</td>\n",
              "      <td>시간당 인버터의 Data</td>\n",
              "    </tr>\n",
              "    <tr>\n",
              "      <th>th_temp</th>\n",
              "      <td>845468</td>\n",
              "      <td>1m</td>\n",
              "      <td>x</td>\n",
              "      <td>21/01/01/05:00~ 22/03/30/09:55</td>\n",
              "      <td>분당 변압기의 Data</td>\n",
              "    </tr>\n",
              "    <tr>\n",
              "      <th>th_temp_day</th>\n",
              "      <td>15133</td>\n",
              "      <td>1h</td>\n",
              "      <td>x</td>\n",
              "      <td>21/01/01/05:00~ 22/03/30/09:00</td>\n",
              "      <td>시간당 변압기의 Data</td>\n",
              "    </tr>\n",
              "    <tr>\n",
              "      <th>th_weather</th>\n",
              "      <td>422734</td>\n",
              "      <td>1m</td>\n",
              "      <td>o</td>\n",
              "      <td>21/01/01/05:00~ 22/03/30/09:55</td>\n",
              "      <td>분당 기상 Data</td>\n",
              "    </tr>\n",
              "    <tr>\n",
              "      <th>th_weather_day</th>\n",
              "      <td>15133</td>\n",
              "      <td>1h</td>\n",
              "      <td>x</td>\n",
              "      <td>21/01/01/05:00~ 22/03/30/09:00</td>\n",
              "      <td>시간당 기상 Data</td>\n",
              "    </tr>\n",
              "  </tbody>\n",
              "</table>\n",
              "</div>"
            ],
            "text/plain": [
              "                          건수  주기 활용여부                              기간  \\\n",
              "df_connectbox_day      92044  1h    o  21/01/01/05:00~ 22/03/30/09:00   \n",
              "df_connectbox        4227340  1m    o  21/01/01/05:00~ 22/03/30/09:55   \n",
              "th_digitalmeter      1300970  1m    x  21/01/01/05:00~ 22/03/30/09:55   \n",
              "th_digitalmeter_day    28766  1h    x  21/01/01/05:00~ 22/03/30/09:00   \n",
              "th_event                5463  1m    x  21/01/01/05:00~ 22/03/30/09:55   \n",
              "th_inverter           878236  1m    x  21/01/01/05:00~ 22/03/30/09:55   \n",
              "th_inverter_day        15133  1h    x  21/01/01/05:00~ 22/03/30/09:00   \n",
              "th_temp               845468  1m    x  21/01/01/05:00~ 22/03/30/09:55   \n",
              "th_temp_day            15133  1h    x  21/01/01/05:00~ 22/03/30/09:00   \n",
              "th_weather            422734  1m    o  21/01/01/05:00~ 22/03/30/09:55   \n",
              "th_weather_day         15133  1h    x  21/01/01/05:00~ 22/03/30/09:00   \n",
              "\n",
              "                                설명  \n",
              "df_connectbox_day    시간당 접속반의 Data  \n",
              "df_connectbox         분당 접속반의 Data  \n",
              "th_digitalmeter       분당 차단기의 Data  \n",
              "th_digitalmeter_day  시간당 차단기의 Data  \n",
              "th_event               분당 이벤트 Data  \n",
              "th_inverter           분당 인버터의 Data  \n",
              "th_inverter_day      시간당 인버터의 Data  \n",
              "th_temp               분당 변압기의 Data  \n",
              "th_temp_day          시간당 변압기의 Data  \n",
              "th_weather              분당 기상 Data  \n",
              "th_weather_day         시간당 기상 Data  "
            ]
          },
          "execution_count": 6,
          "metadata": {},
          "output_type": "execute_result"
        }
      ],
      "source": [
        "ind = [0, 0, 0, 0, 0, 0, 0, 0, 0, 0, 0]\n",
        "col = [0,0,0,0,0]\n",
        "con = [[0,0,0,0,0],[0,0,0,0,0],[0,0,0,0,0],[0,0,0,0,0],[0,0,0,0,0],[0,0,0,0,0],[0,0,0,0,0],[0,0,0,0,0],[0,0,0,0,0],[0,0,0,0,0],[0,0,0,0,0]]\n",
        "df = pd.DataFrame(con, columns=col, index=ind)\n",
        "df.index = [\"df_connectbox_day \", \"df_connectbox\",\"th_digitalmeter\",\"th_digitalmeter_day\",\"th_event\",\"th_inverter\",\"th_inverter_day\",\"th_temp\",\"th_temp_day\",\"th_weather\",\"th_weather_day\"]\n",
        "df.columns = [\"건수\",\"주기\",'활용여부','기간','설명']\n",
        "df.loc[\"df_connectbox_day \"]=[92044,'1h','o','21/01/01/05:00~ 22/03/30/09:00','시간당 접속반의 Data']\n",
        "df.loc[ \"df_connectbox\"]=[4227340,'1m','o','21/01/01/05:00~ 22/03/30/09:55','분당 접속반의 Data']\n",
        "df.loc[\"th_digitalmeter\"]=[1300970,'1m','x','21/01/01/05:00~ 22/03/30/09:55','분당 차단기의 Data']\n",
        "df.loc[\"th_digitalmeter_day\"]=[28766,'1h','x','21/01/01/05:00~ 22/03/30/09:00','시간당 차단기의 Data']\n",
        "df.loc[\"th_event\"]=[5463,'1m','x','21/01/01/05:00~ 22/03/30/09:55','분당 이벤트 Data']\n",
        "df.loc[\"th_inverter\"]=[878236,'1m','x','21/01/01/05:00~ 22/03/30/09:55','분당 인버터의 Data']\n",
        "df.loc[\"th_inverter_day\"]=[15133,'1h','x','21/01/01/05:00~ 22/03/30/09:00','시간당 인버터의 Data']\n",
        "df.loc[\"th_temp\"]=[845468,'1m','x','21/01/01/05:00~ 22/03/30/09:55','분당 변압기의 Data']\n",
        "df.loc[\"th_temp_day\"]=[15133,'1h','x','21/01/01/05:00~ 22/03/30/09:00','시간당 변압기의 Data']\n",
        "df.loc[\"th_weather\"]=[422734,'1m','o','21/01/01/05:00~ 22/03/30/09:55','분당 기상 Data']\n",
        "df.loc[\"th_weather_day\"]=[15133,'1h','x','21/01/01/05:00~ 22/03/30/09:00','시간당 기상 Data']\n",
        "\n",
        "df"
      ]
    },
    {
      "cell_type": "markdown",
      "id": "235164db",
      "metadata": {
        "id": "235164db"
      },
      "source": [
        "## 1.2 대표 접속반 선정\n",
        "분석 대상의 데이터를 조사결과 접속반 내의 단자대 온도를 활용한 건전성 지표 개발에 필요한 분당 접속반 데이터(th_connectbox)의 건수가 400만건 이상으로 분석에 필요한 시간과 제공 분석자원이 불필요하게 많이 소모된다.\n",
        "그렇므로 10개의 접속반중 대표 접속반을 선정하기 위한 기술통계가 필요하다.\n",
        "또한 단자대 온도에 영향을 미치는 요소들에 대한 상관관계를 분석이 필요하다.\n",
        "기술통계를 통해 대표 접속반을 선정한 후 대표 접속반을 기준으로 현재/5/10분전 데이터로 10분후 단자대 온도 예측 모델을 구현한다.\n",
        "예측 모델을 통한 10분  예측 단자대 온도에 대하여는 단측 검정값으로 건저성 판단 지표를 개발한다."
      ]
    },
    {
      "cell_type": "code",
      "execution_count": null,
      "id": "753bc29a-b629-4f7f-b80c-fc82d60597b0",
      "metadata": {
        "id": "753bc29a-b629-4f7f-b80c-fc82d60597b0"
      },
      "outputs": [],
      "source": [
        "# 접속반 데이터 lOADING\n",
        "df_connectbox = pd.read_csv('E:/data/th_connectbox.csv', encoding = 'utf-16' , sep = ',')"
      ]
    },
    {
      "cell_type": "markdown",
      "id": "3945fdcc",
      "metadata": {
        "id": "3945fdcc"
      },
      "source": [
        "### 1.2.1  데이터 중복 제거\n",
        "접속반 데이터의 2021년 데이터가 생성일자와 접속반 번호 기준으로 중복된 데이터가 존재하므로 중복을 제거한다."
      ]
    },
    {
      "cell_type": "code",
      "execution_count": null,
      "id": "8900c6db-08df-43a0-9d40-86a136619826",
      "metadata": {
        "id": "8900c6db-08df-43a0-9d40-86a136619826",
        "outputId": "0eaa2674-6ce6-4602-d735-d6b8d6197f64"
      },
      "outputs": [
        {
          "data": {
            "text/html": [
              "<div>\n",
              "<style scoped>\n",
              "    .dataframe tbody tr th:only-of-type {\n",
              "        vertical-align: middle;\n",
              "    }\n",
              "\n",
              "    .dataframe tbody tr th {\n",
              "        vertical-align: top;\n",
              "    }\n",
              "\n",
              "    .dataframe thead th {\n",
              "        text-align: right;\n",
              "    }\n",
              "</style>\n",
              "<table border=\"1\" class=\"dataframe\">\n",
              "  <thead>\n",
              "    <tr style=\"text-align: right;\">\n",
              "      <th></th>\n",
              "      <th>sl_id</th>\n",
              "      <th>item_no</th>\n",
              "      <th>create_date</th>\n",
              "      <th>v_total</th>\n",
              "      <th>a_total</th>\n",
              "      <th>a01</th>\n",
              "      <th>a02</th>\n",
              "      <th>a03</th>\n",
              "      <th>a04</th>\n",
              "      <th>a05</th>\n",
              "      <th>...</th>\n",
              "      <th>a23</th>\n",
              "      <th>a24</th>\n",
              "      <th>a25</th>\n",
              "      <th>a26</th>\n",
              "      <th>a27</th>\n",
              "      <th>a28</th>\n",
              "      <th>in_temp</th>\n",
              "      <th>status0</th>\n",
              "      <th>status1</th>\n",
              "      <th>status2</th>\n",
              "    </tr>\n",
              "  </thead>\n",
              "  <tbody>\n",
              "    <tr>\n",
              "      <th>0</th>\n",
              "      <td>1</td>\n",
              "      <td>8</td>\n",
              "      <td>2021-01-01 05:00:00</td>\n",
              "      <td>0.00000</td>\n",
              "      <td>0.0</td>\n",
              "      <td>0.0</td>\n",
              "      <td>0.0</td>\n",
              "      <td>0.0</td>\n",
              "      <td>0.0</td>\n",
              "      <td>0.0</td>\n",
              "      <td>...</td>\n",
              "      <td>0</td>\n",
              "      <td>0</td>\n",
              "      <td>0</td>\n",
              "      <td>0</td>\n",
              "      <td>0</td>\n",
              "      <td>0</td>\n",
              "      <td>-0.7</td>\n",
              "      <td>0</td>\n",
              "      <td>0</td>\n",
              "      <td>0</td>\n",
              "    </tr>\n",
              "    <tr>\n",
              "      <th>1</th>\n",
              "      <td>1</td>\n",
              "      <td>8</td>\n",
              "      <td>2021-01-01 05:01:00</td>\n",
              "      <td>0.00000</td>\n",
              "      <td>0.0</td>\n",
              "      <td>0.0</td>\n",
              "      <td>0.0</td>\n",
              "      <td>0.0</td>\n",
              "      <td>0.0</td>\n",
              "      <td>0.0</td>\n",
              "      <td>...</td>\n",
              "      <td>0</td>\n",
              "      <td>0</td>\n",
              "      <td>0</td>\n",
              "      <td>0</td>\n",
              "      <td>0</td>\n",
              "      <td>0</td>\n",
              "      <td>-0.7</td>\n",
              "      <td>0</td>\n",
              "      <td>0</td>\n",
              "      <td>0</td>\n",
              "    </tr>\n",
              "    <tr>\n",
              "      <th>2</th>\n",
              "      <td>1</td>\n",
              "      <td>8</td>\n",
              "      <td>2021-01-01 05:02:00</td>\n",
              "      <td>0.00000</td>\n",
              "      <td>0.0</td>\n",
              "      <td>0.0</td>\n",
              "      <td>0.0</td>\n",
              "      <td>0.0</td>\n",
              "      <td>0.0</td>\n",
              "      <td>0.0</td>\n",
              "      <td>...</td>\n",
              "      <td>0</td>\n",
              "      <td>0</td>\n",
              "      <td>0</td>\n",
              "      <td>0</td>\n",
              "      <td>0</td>\n",
              "      <td>0</td>\n",
              "      <td>-0.7</td>\n",
              "      <td>0</td>\n",
              "      <td>0</td>\n",
              "      <td>0</td>\n",
              "    </tr>\n",
              "    <tr>\n",
              "      <th>3</th>\n",
              "      <td>1</td>\n",
              "      <td>8</td>\n",
              "      <td>2021-01-01 05:03:00</td>\n",
              "      <td>0.00000</td>\n",
              "      <td>0.0</td>\n",
              "      <td>0.0</td>\n",
              "      <td>0.0</td>\n",
              "      <td>0.0</td>\n",
              "      <td>0.0</td>\n",
              "      <td>0.0</td>\n",
              "      <td>...</td>\n",
              "      <td>0</td>\n",
              "      <td>0</td>\n",
              "      <td>0</td>\n",
              "      <td>0</td>\n",
              "      <td>0</td>\n",
              "      <td>0</td>\n",
              "      <td>-0.7</td>\n",
              "      <td>0</td>\n",
              "      <td>0</td>\n",
              "      <td>0</td>\n",
              "    </tr>\n",
              "    <tr>\n",
              "      <th>4</th>\n",
              "      <td>1</td>\n",
              "      <td>8</td>\n",
              "      <td>2021-01-01 05:04:00</td>\n",
              "      <td>0.00000</td>\n",
              "      <td>0.0</td>\n",
              "      <td>0.0</td>\n",
              "      <td>0.0</td>\n",
              "      <td>0.0</td>\n",
              "      <td>0.0</td>\n",
              "      <td>0.0</td>\n",
              "      <td>...</td>\n",
              "      <td>0</td>\n",
              "      <td>0</td>\n",
              "      <td>0</td>\n",
              "      <td>0</td>\n",
              "      <td>0</td>\n",
              "      <td>0</td>\n",
              "      <td>-0.8</td>\n",
              "      <td>0</td>\n",
              "      <td>0</td>\n",
              "      <td>0</td>\n",
              "    </tr>\n",
              "    <tr>\n",
              "      <th>...</th>\n",
              "      <td>...</td>\n",
              "      <td>...</td>\n",
              "      <td>...</td>\n",
              "      <td>...</td>\n",
              "      <td>...</td>\n",
              "      <td>...</td>\n",
              "      <td>...</td>\n",
              "      <td>...</td>\n",
              "      <td>...</td>\n",
              "      <td>...</td>\n",
              "      <td>...</td>\n",
              "      <td>...</td>\n",
              "      <td>...</td>\n",
              "      <td>...</td>\n",
              "      <td>...</td>\n",
              "      <td>...</td>\n",
              "      <td>...</td>\n",
              "      <td>...</td>\n",
              "      <td>...</td>\n",
              "      <td>...</td>\n",
              "      <td>...</td>\n",
              "    </tr>\n",
              "    <tr>\n",
              "      <th>7616046</th>\n",
              "      <td>1</td>\n",
              "      <td>17</td>\n",
              "      <td>2022-03-30 09:51:00</td>\n",
              "      <td>659.90002</td>\n",
              "      <td>13.4</td>\n",
              "      <td>0.7</td>\n",
              "      <td>0.6</td>\n",
              "      <td>0.7</td>\n",
              "      <td>0.6</td>\n",
              "      <td>0.8</td>\n",
              "      <td>...</td>\n",
              "      <td>0</td>\n",
              "      <td>0</td>\n",
              "      <td>0</td>\n",
              "      <td>0</td>\n",
              "      <td>0</td>\n",
              "      <td>0</td>\n",
              "      <td>11.8</td>\n",
              "      <td>0</td>\n",
              "      <td>0</td>\n",
              "      <td>0</td>\n",
              "    </tr>\n",
              "    <tr>\n",
              "      <th>7616047</th>\n",
              "      <td>1</td>\n",
              "      <td>17</td>\n",
              "      <td>2022-03-30 09:52:00</td>\n",
              "      <td>657.00000</td>\n",
              "      <td>12.3</td>\n",
              "      <td>0.6</td>\n",
              "      <td>0.6</td>\n",
              "      <td>0.7</td>\n",
              "      <td>0.6</td>\n",
              "      <td>0.8</td>\n",
              "      <td>...</td>\n",
              "      <td>0</td>\n",
              "      <td>0</td>\n",
              "      <td>0</td>\n",
              "      <td>0</td>\n",
              "      <td>0</td>\n",
              "      <td>0</td>\n",
              "      <td>11.8</td>\n",
              "      <td>0</td>\n",
              "      <td>0</td>\n",
              "      <td>0</td>\n",
              "    </tr>\n",
              "    <tr>\n",
              "      <th>7616048</th>\n",
              "      <td>1</td>\n",
              "      <td>17</td>\n",
              "      <td>2022-03-30 09:53:00</td>\n",
              "      <td>659.79999</td>\n",
              "      <td>13.3</td>\n",
              "      <td>0.7</td>\n",
              "      <td>0.6</td>\n",
              "      <td>0.7</td>\n",
              "      <td>0.6</td>\n",
              "      <td>0.8</td>\n",
              "      <td>...</td>\n",
              "      <td>0</td>\n",
              "      <td>0</td>\n",
              "      <td>0</td>\n",
              "      <td>0</td>\n",
              "      <td>0</td>\n",
              "      <td>0</td>\n",
              "      <td>11.8</td>\n",
              "      <td>0</td>\n",
              "      <td>0</td>\n",
              "      <td>0</td>\n",
              "    </tr>\n",
              "    <tr>\n",
              "      <th>7616049</th>\n",
              "      <td>1</td>\n",
              "      <td>17</td>\n",
              "      <td>2022-03-30 09:54:00</td>\n",
              "      <td>657.90002</td>\n",
              "      <td>13.5</td>\n",
              "      <td>0.7</td>\n",
              "      <td>0.7</td>\n",
              "      <td>0.7</td>\n",
              "      <td>0.6</td>\n",
              "      <td>0.8</td>\n",
              "      <td>...</td>\n",
              "      <td>0</td>\n",
              "      <td>0</td>\n",
              "      <td>0</td>\n",
              "      <td>0</td>\n",
              "      <td>0</td>\n",
              "      <td>0</td>\n",
              "      <td>11.8</td>\n",
              "      <td>0</td>\n",
              "      <td>0</td>\n",
              "      <td>0</td>\n",
              "    </tr>\n",
              "    <tr>\n",
              "      <th>7616050</th>\n",
              "      <td>1</td>\n",
              "      <td>17</td>\n",
              "      <td>2022-03-30 09:55:00</td>\n",
              "      <td>660.00000</td>\n",
              "      <td>13.6</td>\n",
              "      <td>0.7</td>\n",
              "      <td>0.7</td>\n",
              "      <td>0.7</td>\n",
              "      <td>0.6</td>\n",
              "      <td>0.8</td>\n",
              "      <td>...</td>\n",
              "      <td>0</td>\n",
              "      <td>0</td>\n",
              "      <td>0</td>\n",
              "      <td>0</td>\n",
              "      <td>0</td>\n",
              "      <td>0</td>\n",
              "      <td>11.8</td>\n",
              "      <td>0</td>\n",
              "      <td>0</td>\n",
              "      <td>0</td>\n",
              "    </tr>\n",
              "  </tbody>\n",
              "</table>\n",
              "<p>4243723 rows × 37 columns</p>\n",
              "</div>"
            ],
            "text/plain": [
              "        sl_id  item_no         create_date    v_total  a_total  a01  a02  a03  \\\n",
              "0           1        8 2021-01-01 05:00:00    0.00000      0.0  0.0  0.0  0.0   \n",
              "1           1        8 2021-01-01 05:01:00    0.00000      0.0  0.0  0.0  0.0   \n",
              "2           1        8 2021-01-01 05:02:00    0.00000      0.0  0.0  0.0  0.0   \n",
              "3           1        8 2021-01-01 05:03:00    0.00000      0.0  0.0  0.0  0.0   \n",
              "4           1        8 2021-01-01 05:04:00    0.00000      0.0  0.0  0.0  0.0   \n",
              "...       ...      ...                 ...        ...      ...  ...  ...  ...   \n",
              "7616046     1       17 2022-03-30 09:51:00  659.90002     13.4  0.7  0.6  0.7   \n",
              "7616047     1       17 2022-03-30 09:52:00  657.00000     12.3  0.6  0.6  0.7   \n",
              "7616048     1       17 2022-03-30 09:53:00  659.79999     13.3  0.7  0.6  0.7   \n",
              "7616049     1       17 2022-03-30 09:54:00  657.90002     13.5  0.7  0.7  0.7   \n",
              "7616050     1       17 2022-03-30 09:55:00  660.00000     13.6  0.7  0.7  0.7   \n",
              "\n",
              "         a04  a05  ... a23 a24 a25 a26 a27 a28 in_temp status0 status1 status2  \n",
              "0        0.0  0.0  ...   0   0   0   0   0   0    -0.7       0       0       0  \n",
              "1        0.0  0.0  ...   0   0   0   0   0   0    -0.7       0       0       0  \n",
              "2        0.0  0.0  ...   0   0   0   0   0   0    -0.7       0       0       0  \n",
              "3        0.0  0.0  ...   0   0   0   0   0   0    -0.7       0       0       0  \n",
              "4        0.0  0.0  ...   0   0   0   0   0   0    -0.8       0       0       0  \n",
              "...      ...  ...  ...  ..  ..  ..  ..  ..  ..     ...     ...     ...     ...  \n",
              "7616046  0.6  0.8  ...   0   0   0   0   0   0    11.8       0       0       0  \n",
              "7616047  0.6  0.8  ...   0   0   0   0   0   0    11.8       0       0       0  \n",
              "7616048  0.6  0.8  ...   0   0   0   0   0   0    11.8       0       0       0  \n",
              "7616049  0.6  0.8  ...   0   0   0   0   0   0    11.8       0       0       0  \n",
              "7616050  0.6  0.8  ...   0   0   0   0   0   0    11.8       0       0       0  \n",
              "\n",
              "[4243723 rows x 37 columns]"
            ]
          },
          "execution_count": 8,
          "metadata": {},
          "output_type": "execute_result"
        }
      ],
      "source": [
        "# 생성일시 AND 설비번호(ITEM_NO) 기준으로 중복을 제거한다\n",
        "df_connectbox = df_connectbox.drop_duplicates(['create_date', 'item_no'])\n",
        "df_connectbox = df_connectbox[~(df_connectbox.create_date == 'create_date')].copy()\n",
        "df_connectbox['create_date'] = pd.to_datetime(df_connectbox['create_date'], errors='coerce')\n",
        "\n",
        "# 사용할 변수를 숫자로 치환\n",
        "df_connectbox[['item_no', 'a_total', 'in_temp','v_total']] = df_connectbox[['item_no', 'a_total', 'in_temp','v_total']].apply(pd.to_numeric)\n",
        "\n",
        "df_connectbox"
      ]
    },
    {
      "cell_type": "markdown",
      "id": "2b4c4893",
      "metadata": {
        "id": "2b4c4893"
      },
      "source": [
        "### 1.2.2 접속반 별로 분리"
      ]
    },
    {
      "cell_type": "code",
      "execution_count": null,
      "id": "6c607489-7ecd-4451-b0a3-4e1a1aed1ed6",
      "metadata": {
        "id": "6c607489-7ecd-4451-b0a3-4e1a1aed1ed6",
        "outputId": "78a3a01a-7f4b-4ef8-f122-7bcd4ec568a0"
      },
      "outputs": [
        {
          "data": {
            "text/html": [
              "<div>\n",
              "<style scoped>\n",
              "    .dataframe tbody tr th:only-of-type {\n",
              "        vertical-align: middle;\n",
              "    }\n",
              "\n",
              "    .dataframe tbody tr th {\n",
              "        vertical-align: top;\n",
              "    }\n",
              "\n",
              "    .dataframe thead th {\n",
              "        text-align: right;\n",
              "    }\n",
              "</style>\n",
              "<table border=\"1\" class=\"dataframe\">\n",
              "  <thead>\n",
              "    <tr style=\"text-align: right;\">\n",
              "      <th></th>\n",
              "      <th>sl_id</th>\n",
              "      <th>item_no</th>\n",
              "      <th>create_date</th>\n",
              "      <th>v_total</th>\n",
              "      <th>a_total</th>\n",
              "      <th>a01</th>\n",
              "      <th>a02</th>\n",
              "      <th>a03</th>\n",
              "      <th>a04</th>\n",
              "      <th>a05</th>\n",
              "      <th>...</th>\n",
              "      <th>a23</th>\n",
              "      <th>a24</th>\n",
              "      <th>a25</th>\n",
              "      <th>a26</th>\n",
              "      <th>a27</th>\n",
              "      <th>a28</th>\n",
              "      <th>in_temp</th>\n",
              "      <th>status0</th>\n",
              "      <th>status1</th>\n",
              "      <th>status2</th>\n",
              "    </tr>\n",
              "  </thead>\n",
              "  <tbody>\n",
              "    <tr>\n",
              "      <th>2372097</th>\n",
              "      <td>1</td>\n",
              "      <td>15</td>\n",
              "      <td>2021-01-01 05:00:00</td>\n",
              "      <td>0.00000</td>\n",
              "      <td>0.0</td>\n",
              "      <td>0.0</td>\n",
              "      <td>0.0</td>\n",
              "      <td>0.0</td>\n",
              "      <td>0.0</td>\n",
              "      <td>0.0</td>\n",
              "      <td>...</td>\n",
              "      <td>0</td>\n",
              "      <td>0</td>\n",
              "      <td>0</td>\n",
              "      <td>0</td>\n",
              "      <td>0</td>\n",
              "      <td>0</td>\n",
              "      <td>0.0</td>\n",
              "      <td>0</td>\n",
              "      <td>0</td>\n",
              "      <td>0</td>\n",
              "    </tr>\n",
              "    <tr>\n",
              "      <th>2372098</th>\n",
              "      <td>1</td>\n",
              "      <td>15</td>\n",
              "      <td>2021-01-01 05:01:00</td>\n",
              "      <td>0.00000</td>\n",
              "      <td>0.0</td>\n",
              "      <td>0.0</td>\n",
              "      <td>0.0</td>\n",
              "      <td>0.0</td>\n",
              "      <td>0.0</td>\n",
              "      <td>0.0</td>\n",
              "      <td>...</td>\n",
              "      <td>0</td>\n",
              "      <td>0</td>\n",
              "      <td>0</td>\n",
              "      <td>0</td>\n",
              "      <td>0</td>\n",
              "      <td>0</td>\n",
              "      <td>0.0</td>\n",
              "      <td>0</td>\n",
              "      <td>0</td>\n",
              "      <td>0</td>\n",
              "    </tr>\n",
              "    <tr>\n",
              "      <th>2372099</th>\n",
              "      <td>1</td>\n",
              "      <td>15</td>\n",
              "      <td>2021-01-01 05:02:00</td>\n",
              "      <td>0.00000</td>\n",
              "      <td>0.0</td>\n",
              "      <td>0.0</td>\n",
              "      <td>0.0</td>\n",
              "      <td>0.0</td>\n",
              "      <td>0.0</td>\n",
              "      <td>0.0</td>\n",
              "      <td>...</td>\n",
              "      <td>0</td>\n",
              "      <td>0</td>\n",
              "      <td>0</td>\n",
              "      <td>0</td>\n",
              "      <td>0</td>\n",
              "      <td>0</td>\n",
              "      <td>0.0</td>\n",
              "      <td>0</td>\n",
              "      <td>0</td>\n",
              "      <td>0</td>\n",
              "    </tr>\n",
              "    <tr>\n",
              "      <th>2372100</th>\n",
              "      <td>1</td>\n",
              "      <td>15</td>\n",
              "      <td>2021-01-01 05:03:00</td>\n",
              "      <td>0.00000</td>\n",
              "      <td>0.0</td>\n",
              "      <td>0.0</td>\n",
              "      <td>0.0</td>\n",
              "      <td>0.0</td>\n",
              "      <td>0.0</td>\n",
              "      <td>0.0</td>\n",
              "      <td>...</td>\n",
              "      <td>0</td>\n",
              "      <td>0</td>\n",
              "      <td>0</td>\n",
              "      <td>0</td>\n",
              "      <td>0</td>\n",
              "      <td>0</td>\n",
              "      <td>0.0</td>\n",
              "      <td>0</td>\n",
              "      <td>0</td>\n",
              "      <td>0</td>\n",
              "    </tr>\n",
              "    <tr>\n",
              "      <th>2372101</th>\n",
              "      <td>1</td>\n",
              "      <td>15</td>\n",
              "      <td>2021-01-01 05:04:00</td>\n",
              "      <td>0.00000</td>\n",
              "      <td>0.0</td>\n",
              "      <td>0.0</td>\n",
              "      <td>0.0</td>\n",
              "      <td>0.0</td>\n",
              "      <td>0.0</td>\n",
              "      <td>0.0</td>\n",
              "      <td>...</td>\n",
              "      <td>0</td>\n",
              "      <td>0</td>\n",
              "      <td>0</td>\n",
              "      <td>0</td>\n",
              "      <td>0</td>\n",
              "      <td>0</td>\n",
              "      <td>0.0</td>\n",
              "      <td>0</td>\n",
              "      <td>0</td>\n",
              "      <td>0</td>\n",
              "    </tr>\n",
              "    <tr>\n",
              "      <th>...</th>\n",
              "      <td>...</td>\n",
              "      <td>...</td>\n",
              "      <td>...</td>\n",
              "      <td>...</td>\n",
              "      <td>...</td>\n",
              "      <td>...</td>\n",
              "      <td>...</td>\n",
              "      <td>...</td>\n",
              "      <td>...</td>\n",
              "      <td>...</td>\n",
              "      <td>...</td>\n",
              "      <td>...</td>\n",
              "      <td>...</td>\n",
              "      <td>...</td>\n",
              "      <td>...</td>\n",
              "      <td>...</td>\n",
              "      <td>...</td>\n",
              "      <td>...</td>\n",
              "      <td>...</td>\n",
              "      <td>...</td>\n",
              "      <td>...</td>\n",
              "    </tr>\n",
              "    <tr>\n",
              "      <th>6770578</th>\n",
              "      <td>1</td>\n",
              "      <td>15</td>\n",
              "      <td>2022-03-30 09:51:00</td>\n",
              "      <td>664.50000</td>\n",
              "      <td>11.7</td>\n",
              "      <td>0.7</td>\n",
              "      <td>0.6</td>\n",
              "      <td>0.7</td>\n",
              "      <td>0.7</td>\n",
              "      <td>0.6</td>\n",
              "      <td>...</td>\n",
              "      <td>0</td>\n",
              "      <td>0</td>\n",
              "      <td>0</td>\n",
              "      <td>0</td>\n",
              "      <td>0</td>\n",
              "      <td>0</td>\n",
              "      <td>11.8</td>\n",
              "      <td>0</td>\n",
              "      <td>0</td>\n",
              "      <td>0</td>\n",
              "    </tr>\n",
              "    <tr>\n",
              "      <th>6770579</th>\n",
              "      <td>1</td>\n",
              "      <td>15</td>\n",
              "      <td>2022-03-30 09:52:00</td>\n",
              "      <td>660.50000</td>\n",
              "      <td>11.1</td>\n",
              "      <td>0.6</td>\n",
              "      <td>0.6</td>\n",
              "      <td>0.7</td>\n",
              "      <td>0.6</td>\n",
              "      <td>0.6</td>\n",
              "      <td>...</td>\n",
              "      <td>0</td>\n",
              "      <td>0</td>\n",
              "      <td>0</td>\n",
              "      <td>0</td>\n",
              "      <td>0</td>\n",
              "      <td>0</td>\n",
              "      <td>11.8</td>\n",
              "      <td>0</td>\n",
              "      <td>0</td>\n",
              "      <td>0</td>\n",
              "    </tr>\n",
              "    <tr>\n",
              "      <th>6770580</th>\n",
              "      <td>1</td>\n",
              "      <td>15</td>\n",
              "      <td>2022-03-30 09:53:00</td>\n",
              "      <td>663.59998</td>\n",
              "      <td>11.6</td>\n",
              "      <td>0.7</td>\n",
              "      <td>0.6</td>\n",
              "      <td>0.7</td>\n",
              "      <td>0.7</td>\n",
              "      <td>0.6</td>\n",
              "      <td>...</td>\n",
              "      <td>0</td>\n",
              "      <td>0</td>\n",
              "      <td>0</td>\n",
              "      <td>0</td>\n",
              "      <td>0</td>\n",
              "      <td>0</td>\n",
              "      <td>11.8</td>\n",
              "      <td>0</td>\n",
              "      <td>0</td>\n",
              "      <td>0</td>\n",
              "    </tr>\n",
              "    <tr>\n",
              "      <th>6770581</th>\n",
              "      <td>1</td>\n",
              "      <td>15</td>\n",
              "      <td>2022-03-30 09:54:00</td>\n",
              "      <td>666.79999</td>\n",
              "      <td>12.2</td>\n",
              "      <td>0.7</td>\n",
              "      <td>0.7</td>\n",
              "      <td>0.7</td>\n",
              "      <td>0.7</td>\n",
              "      <td>0.6</td>\n",
              "      <td>...</td>\n",
              "      <td>0</td>\n",
              "      <td>0</td>\n",
              "      <td>0</td>\n",
              "      <td>0</td>\n",
              "      <td>0</td>\n",
              "      <td>0</td>\n",
              "      <td>11.8</td>\n",
              "      <td>0</td>\n",
              "      <td>0</td>\n",
              "      <td>0</td>\n",
              "    </tr>\n",
              "    <tr>\n",
              "      <th>6770582</th>\n",
              "      <td>1</td>\n",
              "      <td>15</td>\n",
              "      <td>2022-03-30 09:55:00</td>\n",
              "      <td>662.79999</td>\n",
              "      <td>12.3</td>\n",
              "      <td>0.7</td>\n",
              "      <td>0.7</td>\n",
              "      <td>0.7</td>\n",
              "      <td>0.7</td>\n",
              "      <td>0.6</td>\n",
              "      <td>...</td>\n",
              "      <td>0</td>\n",
              "      <td>0</td>\n",
              "      <td>0</td>\n",
              "      <td>0</td>\n",
              "      <td>0</td>\n",
              "      <td>0</td>\n",
              "      <td>11.9</td>\n",
              "      <td>0</td>\n",
              "      <td>0</td>\n",
              "      <td>0</td>\n",
              "    </tr>\n",
              "  </tbody>\n",
              "</table>\n",
              "<p>422734 rows × 37 columns</p>\n",
              "</div>"
            ],
            "text/plain": [
              "        sl_id  item_no         create_date    v_total  a_total  a01  a02  a03  \\\n",
              "2372097     1       15 2021-01-01 05:00:00    0.00000      0.0  0.0  0.0  0.0   \n",
              "2372098     1       15 2021-01-01 05:01:00    0.00000      0.0  0.0  0.0  0.0   \n",
              "2372099     1       15 2021-01-01 05:02:00    0.00000      0.0  0.0  0.0  0.0   \n",
              "2372100     1       15 2021-01-01 05:03:00    0.00000      0.0  0.0  0.0  0.0   \n",
              "2372101     1       15 2021-01-01 05:04:00    0.00000      0.0  0.0  0.0  0.0   \n",
              "...       ...      ...                 ...        ...      ...  ...  ...  ...   \n",
              "6770578     1       15 2022-03-30 09:51:00  664.50000     11.7  0.7  0.6  0.7   \n",
              "6770579     1       15 2022-03-30 09:52:00  660.50000     11.1  0.6  0.6  0.7   \n",
              "6770580     1       15 2022-03-30 09:53:00  663.59998     11.6  0.7  0.6  0.7   \n",
              "6770581     1       15 2022-03-30 09:54:00  666.79999     12.2  0.7  0.7  0.7   \n",
              "6770582     1       15 2022-03-30 09:55:00  662.79999     12.3  0.7  0.7  0.7   \n",
              "\n",
              "         a04  a05  ... a23 a24 a25 a26 a27 a28 in_temp status0 status1 status2  \n",
              "2372097  0.0  0.0  ...   0   0   0   0   0   0     0.0       0       0       0  \n",
              "2372098  0.0  0.0  ...   0   0   0   0   0   0     0.0       0       0       0  \n",
              "2372099  0.0  0.0  ...   0   0   0   0   0   0     0.0       0       0       0  \n",
              "2372100  0.0  0.0  ...   0   0   0   0   0   0     0.0       0       0       0  \n",
              "2372101  0.0  0.0  ...   0   0   0   0   0   0     0.0       0       0       0  \n",
              "...      ...  ...  ...  ..  ..  ..  ..  ..  ..     ...     ...     ...     ...  \n",
              "6770578  0.7  0.6  ...   0   0   0   0   0   0    11.8       0       0       0  \n",
              "6770579  0.6  0.6  ...   0   0   0   0   0   0    11.8       0       0       0  \n",
              "6770580  0.7  0.6  ...   0   0   0   0   0   0    11.8       0       0       0  \n",
              "6770581  0.7  0.6  ...   0   0   0   0   0   0    11.8       0       0       0  \n",
              "6770582  0.7  0.6  ...   0   0   0   0   0   0    11.9       0       0       0  \n",
              "\n",
              "[422734 rows x 37 columns]"
            ]
          },
          "execution_count": 9,
          "metadata": {},
          "output_type": "execute_result"
        }
      ],
      "source": [
        "df_connectboxAA=[]\n",
        "\n",
        "for i in range(8,18):\n",
        "    df_connectboxAA.append(df_connectbox[df_connectbox['item_no'] == i])\n",
        "\n",
        "# 15번 접속반\n",
        "df_connectboxAA[7]"
      ]
    },
    {
      "cell_type": "markdown",
      "id": "8ec97fdb",
      "metadata": {
        "id": "8ec97fdb"
      },
      "source": [
        "### 1.2.3 접속반별 단자대온도 분포도"
      ]
    },
    {
      "cell_type": "code",
      "execution_count": null,
      "id": "6965e3dc-933d-44ba-b27c-96c1dc491fd1",
      "metadata": {
        "id": "6965e3dc-933d-44ba-b27c-96c1dc491fd1",
        "outputId": "783d7a64-a2b2-4b53-f190-23bb4737dec1"
      },
      "outputs": [
        {
          "data": {
            "image/png": "[encoded data removed]",
            "text/plain": [
              "<Figure size 360x144 with 1 Axes>"
            ]
          },
          "metadata": {
            "needs_background": "light"
          },
          "output_type": "display_data"
        },
        {
          "data": {
            "image/png": "[encoded data removed]",
            "text/plain": [
              "<Figure size 360x144 with 1 Axes>"
            ]
          },
          "metadata": {
            "needs_background": "light"
          },
          "output_type": "display_data"
        },
        {
          "data": {
            "image/png": "[encoded data removed]",
            "text/plain": [
              "<Figure size 360x144 with 1 Axes>"
            ]
          },
          "metadata": {
            "needs_background": "light"
          },
          "output_type": "display_data"
        },
        {
          "data": {
            "image/png": "[encoded data removed]",
            "text/plain": [
              "<Figure size 360x144 with 1 Axes>"
            ]
          },
          "metadata": {
            "needs_background": "light"
          },
          "output_type": "display_data"
        },
        {
          "data": {
            "image/png": "[encoded data removed]",
            "text/plain": [
              "<Figure size 360x144 with 1 Axes>"
            ]
          },
          "metadata": {
            "needs_background": "light"
          },
          "output_type": "display_data"
        },
        {
          "data": {
            "image/png": "[encoded data removed]",
            "text/plain": [
              "<Figure size 360x144 with 1 Axes>"
            ]
          },
          "metadata": {
            "needs_background": "light"
          },
          "output_type": "display_data"
        },
        {
          "data": {
            "image/png": "[encoded data removed]",
            "text/plain": [
              "<Figure size 360x144 with 1 Axes>"
            ]
          },
          "metadata": {
            "needs_background": "light"
          },
          "output_type": "display_data"
        },
        {
          "data": {
            "image/png": "[encoded data removed]",
            "text/plain": [
              "<Figure size 360x144 with 1 Axes>"
            ]
          },
          "metadata": {
            "needs_background": "light"
          },
          "output_type": "display_data"
        },
        {
          "data": {
            "image/png": "[encoded data removed]",
            "text/plain": [
              "<Figure size 360x144 with 1 Axes>"
            ]
          },
          "metadata": {
            "needs_background": "light"
          },
          "output_type": "display_data"
        },
        {
          "data": {
            "image/png": "[encoded data removed]",
            "text/plain": [
              "<Figure size 360x144 with 1 Axes>"
            ]
          },
          "metadata": {
            "needs_background": "light"
          },
          "output_type": "display_data"
        }
      ],
      "source": [
        "i=8\n",
        "\n",
        "for cbox in df_connectboxAA:\n",
        "    var_data = cbox['in_temp']\n",
        "    # Create a Figure\n",
        "    fig = plt.figure(figsize=(5,2))\n",
        "\n",
        "    # Plot a histogram\n",
        "    plt.hist(var_data, bins=100)\n",
        "\n",
        "    # Add titles and labels\n",
        "    plt.title('접속반 #{} 단자대온도 분포'.format(i))\n",
        "    fn='C:/ConnectBox{}.pdf'.format(i)\n",
        "    i+=1\n",
        "    plt.xlabel('온도')\n",
        "    plt.ylabel('빈도')\n",
        "\n",
        "    # Show the figure\n",
        "    fig.show()"
      ]
    },
    {
      "cell_type": "markdown",
      "id": "59b9a6a3",
      "metadata": {
        "id": "59b9a6a3"
      },
      "source": [
        "### 1.2.4 대표 접속반 선정"
      ]
    },
    {
      "cell_type": "code",
      "execution_count": null,
      "id": "80ac0a4e-7b67-4ef1-9999-00b505f1c4fa",
      "metadata": {
        "tags": [],
        "id": "80ac0a4e-7b67-4ef1-9999-00b505f1c4fa",
        "outputId": "ea333696-accd-49ed-bd50-3b6881dfb078"
      },
      "outputs": [
        {
          "name": "stdout",
          "output_type": "stream",
          "text": [
            "8 -----------------\n",
            " count    425511.000000\n",
            "mean         20.241949\n",
            "std          12.545701\n",
            "min          -8.800000\n",
            "25%          10.500000\n",
            "50%          19.900000\n",
            "75%          28.700001\n",
            "max          52.700001\n",
            "Name: in_temp, dtype: float64\n",
            "9 -----------------\n",
            " count    422734.000000\n",
            "mean         20.522673\n",
            "std          12.838657\n",
            "min          -8.300000\n",
            "25%          10.500000\n",
            "50%          19.700001\n",
            "75%          29.200001\n",
            "max          54.400002\n",
            "Name: in_temp, dtype: float64\n",
            "10 -----------------\n",
            " count    422734.000000\n",
            "mean         19.901066\n",
            "std          12.591034\n",
            "min          -7.900000\n",
            "25%          10.000000\n",
            "50%          18.700001\n",
            "75%          28.400000\n",
            "max          52.700001\n",
            "Name: in_temp, dtype: float64\n",
            "11 -----------------\n",
            " count    422734.000000\n",
            "mean         20.289464\n",
            "std          12.447520\n",
            "min          -7.200000\n",
            "25%          10.500000\n",
            "50%          19.600000\n",
            "75%          28.700001\n",
            "max          52.500000\n",
            "Name: in_temp, dtype: float64\n",
            "12 -----------------\n",
            " count    422734.000000\n",
            "mean         19.500528\n",
            "std          11.921394\n",
            "min          -8.300000\n",
            "25%          10.200000\n",
            "50%          19.000000\n",
            "75%          27.799999\n",
            "max          48.299999\n",
            "Name: in_temp, dtype: float64\n",
            "13 -----------------\n",
            " count    422734.000000\n",
            "mean         20.249413\n",
            "std          12.234922\n",
            "min          -7.600000\n",
            "25%          10.600000\n",
            "50%          19.700001\n",
            "75%          28.600000\n",
            "max          51.500000\n",
            "Name: in_temp, dtype: float64\n",
            "14 -----------------\n",
            " count    422734.000000\n",
            "mean         20.131250\n",
            "std          12.122220\n",
            "min          -7.900000\n",
            "25%          10.600000\n",
            "50%          19.600000\n",
            "75%          28.400000\n",
            "max          51.099998\n",
            "Name: in_temp, dtype: float64\n",
            "15 -----------------\n",
            " count    422734.000000\n",
            "mean         20.334412\n",
            "std          12.375282\n",
            "min          -7.800000\n",
            "25%          10.600000\n",
            "50%          19.900000\n",
            "75%          28.799999\n",
            "max          52.099998\n",
            "Name: in_temp, dtype: float64\n",
            "16 -----------------\n",
            " count    422734.000000\n",
            "mean         20.411296\n",
            "std          12.337051\n",
            "min          -7.600000\n",
            "25%          10.700000\n",
            "50%          20.000000\n",
            "75%          28.900000\n",
            "max          52.099998\n",
            "Name: in_temp, dtype: float64\n",
            "17 -----------------\n",
            " count    436340.000000\n",
            "mean         20.326043\n",
            "std          12.487979\n",
            "min          -8.000000\n",
            "25%          10.500000\n",
            "50%          19.799999\n",
            "75%          28.900000\n",
            "max          52.599998\n",
            "Name: in_temp, dtype: float64\n"
          ]
        }
      ],
      "source": [
        "#데이터 단자대온도 기술통계\n",
        "df_connectbox_d=[]\n",
        "i=8\n",
        "for cBox in df_connectboxAA:\n",
        "    df_connectbox_d.append(cBox.in_temp.describe())\n",
        "    print(i,\"-----------------\\n\", df_connectbox_d[i-8])\n",
        "    i+=1"
      ]
    },
    {
      "cell_type": "markdown",
      "id": "30051d54",
      "metadata": {
        "id": "30051d54"
      },
      "source": [
        "앞서 말했다시피 10개의 접속반 전체인 400만건이상의 Data를 가공처리하기에는 제공 분석자원과 시간을 불필요하게 많이 소모되므로 대표 접속반 선택하기로 했다.\n",
        "대표접속반 선정을 위하여 각 접속반별 기술통계를 산출했다.\n",
        "\n",
        "단자대 온도(in_temp)기준으로 기술통계값은 위와 같으며  건수, 평균, 표준편차의 전체 평균과 가장 근사한 접속반 15번을 대표 접속반은 선택한다.\n",
        "![image.png](attachment:e78f5a5b-41bf-4344-9478-7c127f17c5d7.png)"
      ]
    },
    {
      "cell_type": "code",
      "execution_count": null,
      "id": "3d803f23-ae84-4663-9940-f1157bece40c",
      "metadata": {
        "id": "3d803f23-ae84-4663-9940-f1157bece40c"
      },
      "outputs": [],
      "source": [
        "# 대표 접속반 15번 추출\n",
        "df_connectbox15 = df_connectbox[df_connectbox['item_no'] == 15]"
      ]
    },
    {
      "cell_type": "markdown",
      "id": "af1b2f2c",
      "metadata": {
        "id": "af1b2f2c"
      },
      "source": [
        "### 1.2.5 기상 데이터 전처리"
      ]
    },
    {
      "cell_type": "code",
      "execution_count": null,
      "id": "6d2e651d-5d25-42c6-9f3a-09276b391768",
      "metadata": {
        "id": "6d2e651d-5d25-42c6-9f3a-09276b391768"
      },
      "outputs": [],
      "source": [
        "# 기상 Data Loading\n",
        "df_weather = pd.read_csv('E:/data/th_weather.csv', encoding = 'utf-16' , sep = ',')\n",
        "df_weather = df_weather[~(df_weather.create_date == 'create_date')].copy()"
      ]
    },
    {
      "cell_type": "code",
      "execution_count": null,
      "id": "360360f5-257a-41bc-a16a-9ca6136b1ddd",
      "metadata": {
        "id": "360360f5-257a-41bc-a16a-9ca6136b1ddd"
      },
      "outputs": [],
      "source": [
        "# 접속반 데이터와 동일하게 2021년 데이터가 생성일자 기준으로 중복 제거\n",
        "df_weather.create_date = pd.to_datetime(df_weather['create_date'], errors='coerce')\n",
        "df_weather = df_weather.drop_duplicates(['create_date']).reset_index(drop = True)\n",
        "df_weather=df_weather.sort_values(by=['create_date'])\n",
        "df_weather[['out_temp']] = df_weather[['out_temp']].apply(pd.to_numeric)"
      ]
    },
    {
      "cell_type": "code",
      "execution_count": null,
      "id": "449f807a-c6d4-43d9-a249-20c610069920",
      "metadata": {
        "id": "449f807a-c6d4-43d9-a249-20c610069920",
        "outputId": "445be094-8bc5-41f3-e38a-30c9e3accd31"
      },
      "outputs": [
        {
          "data": {
            "text/html": [
              "<div>\n",
              "<style scoped>\n",
              "    .dataframe tbody tr th:only-of-type {\n",
              "        vertical-align: middle;\n",
              "    }\n",
              "\n",
              "    .dataframe tbody tr th {\n",
              "        vertical-align: top;\n",
              "    }\n",
              "\n",
              "    .dataframe thead th {\n",
              "        text-align: right;\n",
              "    }\n",
              "</style>\n",
              "<table border=\"1\" class=\"dataframe\">\n",
              "  <thead>\n",
              "    <tr style=\"text-align: right;\">\n",
              "      <th></th>\n",
              "      <th>sl_id</th>\n",
              "      <th>item_no</th>\n",
              "      <th>create_date</th>\n",
              "      <th>s_radiation</th>\n",
              "      <th>h_radiation</th>\n",
              "      <th>mod_temp</th>\n",
              "      <th>out_temp</th>\n",
              "      <th>wind_direction</th>\n",
              "      <th>wind_speed</th>\n",
              "      <th>rainfall</th>\n",
              "      <th>humidity</th>\n",
              "      <th>ma1</th>\n",
              "      <th>ma2</th>\n",
              "      <th>out_temp2</th>\n",
              "      <th>status0</th>\n",
              "      <th>status1</th>\n",
              "      <th>status2</th>\n",
              "    </tr>\n",
              "  </thead>\n",
              "  <tbody>\n",
              "    <tr>\n",
              "      <th>2111</th>\n",
              "      <td>1</td>\n",
              "      <td>18</td>\n",
              "      <td>2021-01-01 05:00:00</td>\n",
              "      <td>20.5625</td>\n",
              "      <td>0.0</td>\n",
              "      <td>1.299999</td>\n",
              "      <td>-2.299999</td>\n",
              "      <td>0</td>\n",
              "      <td>0</td>\n",
              "      <td>0</td>\n",
              "      <td>0</td>\n",
              "      <td>0</td>\n",
              "      <td>0</td>\n",
              "      <td>0</td>\n",
              "      <td>0</td>\n",
              "      <td>0</td>\n",
              "      <td>0</td>\n",
              "    </tr>\n",
              "    <tr>\n",
              "      <th>2112</th>\n",
              "      <td>1</td>\n",
              "      <td>18</td>\n",
              "      <td>2021-01-01 05:01:00</td>\n",
              "      <td>20.5625</td>\n",
              "      <td>0.0</td>\n",
              "      <td>1.299999</td>\n",
              "      <td>-2.299999</td>\n",
              "      <td>0</td>\n",
              "      <td>0</td>\n",
              "      <td>0</td>\n",
              "      <td>0</td>\n",
              "      <td>0</td>\n",
              "      <td>0</td>\n",
              "      <td>0</td>\n",
              "      <td>0</td>\n",
              "      <td>0</td>\n",
              "      <td>0</td>\n",
              "    </tr>\n",
              "    <tr>\n",
              "      <th>2113</th>\n",
              "      <td>1</td>\n",
              "      <td>18</td>\n",
              "      <td>2021-01-01 05:02:00</td>\n",
              "      <td>20.5625</td>\n",
              "      <td>0.0</td>\n",
              "      <td>1.299999</td>\n",
              "      <td>-2.400000</td>\n",
              "      <td>0</td>\n",
              "      <td>0</td>\n",
              "      <td>0</td>\n",
              "      <td>0</td>\n",
              "      <td>0</td>\n",
              "      <td>0</td>\n",
              "      <td>0</td>\n",
              "      <td>0</td>\n",
              "      <td>0</td>\n",
              "      <td>0</td>\n",
              "    </tr>\n",
              "    <tr>\n",
              "      <th>2114</th>\n",
              "      <td>1</td>\n",
              "      <td>18</td>\n",
              "      <td>2021-01-01 05:03:00</td>\n",
              "      <td>20.5625</td>\n",
              "      <td>0.0</td>\n",
              "      <td>1.299999</td>\n",
              "      <td>-2.299999</td>\n",
              "      <td>0</td>\n",
              "      <td>0</td>\n",
              "      <td>0</td>\n",
              "      <td>0</td>\n",
              "      <td>0</td>\n",
              "      <td>0</td>\n",
              "      <td>0</td>\n",
              "      <td>0</td>\n",
              "      <td>0</td>\n",
              "      <td>0</td>\n",
              "    </tr>\n",
              "    <tr>\n",
              "      <th>2115</th>\n",
              "      <td>1</td>\n",
              "      <td>18</td>\n",
              "      <td>2021-01-01 05:04:00</td>\n",
              "      <td>20.5625</td>\n",
              "      <td>0.0</td>\n",
              "      <td>1.299999</td>\n",
              "      <td>-2.299999</td>\n",
              "      <td>0</td>\n",
              "      <td>0</td>\n",
              "      <td>0</td>\n",
              "      <td>0</td>\n",
              "      <td>0</td>\n",
              "      <td>0</td>\n",
              "      <td>0</td>\n",
              "      <td>0</td>\n",
              "      <td>0</td>\n",
              "      <td>0</td>\n",
              "    </tr>\n",
              "  </tbody>\n",
              "</table>\n",
              "</div>"
            ],
            "text/plain": [
              "     sl_id item_no         create_date s_radiation h_radiation  mod_temp  \\\n",
              "2111     1      18 2021-01-01 05:00:00     20.5625         0.0  1.299999   \n",
              "2112     1      18 2021-01-01 05:01:00     20.5625         0.0  1.299999   \n",
              "2113     1      18 2021-01-01 05:02:00     20.5625         0.0  1.299999   \n",
              "2114     1      18 2021-01-01 05:03:00     20.5625         0.0  1.299999   \n",
              "2115     1      18 2021-01-01 05:04:00     20.5625         0.0  1.299999   \n",
              "\n",
              "      out_temp wind_direction wind_speed rainfall humidity ma1 ma2 out_temp2  \\\n",
              "2111 -2.299999              0          0        0        0   0   0         0   \n",
              "2112 -2.299999              0          0        0        0   0   0         0   \n",
              "2113 -2.400000              0          0        0        0   0   0         0   \n",
              "2114 -2.299999              0          0        0        0   0   0         0   \n",
              "2115 -2.299999              0          0        0        0   0   0         0   \n",
              "\n",
              "     status0 status1 status2  \n",
              "2111       0       0       0  \n",
              "2112       0       0       0  \n",
              "2113       0       0       0  \n",
              "2114       0       0       0  \n",
              "2115       0       0       0  "
            ]
          },
          "execution_count": 15,
          "metadata": {},
          "output_type": "execute_result"
        }
      ],
      "source": [
        "df_weather.head()"
      ]
    },
    {
      "cell_type": "markdown",
      "id": "889ceac3-e017-4b9b-b3be-fc12615f0649",
      "metadata": {
        "id": "889ceac3-e017-4b9b-b3be-fc12615f0649"
      },
      "source": [
        "# 2. Data Set 생성\n",
        "## 2.1 Data Set 융복합 Index 생성"
      ]
    },
    {
      "cell_type": "code",
      "execution_count": null,
      "id": "52d1140a-4902-4362-afb3-c4e0f640f595",
      "metadata": {
        "id": "52d1140a-4902-4362-afb3-c4e0f640f595"
      },
      "outputs": [],
      "source": [
        "# 융복합을 위해 생성일자를 Index로 설정\n",
        "df_weather = df_weather.set_index('create_date')\n",
        "df_connectbox15 = df_connectbox15.set_index('create_date')"
      ]
    },
    {
      "cell_type": "code",
      "execution_count": null,
      "id": "0986e0ec-5b43-43a7-83d2-4317c04b6a52",
      "metadata": {
        "id": "0986e0ec-5b43-43a7-83d2-4317c04b6a52",
        "outputId": "e0d9d61b-f230-433a-c194-e26a4c92a332"
      },
      "outputs": [
        {
          "data": {
            "text/html": [
              "<div>\n",
              "<style scoped>\n",
              "    .dataframe tbody tr th:only-of-type {\n",
              "        vertical-align: middle;\n",
              "    }\n",
              "\n",
              "    .dataframe tbody tr th {\n",
              "        vertical-align: top;\n",
              "    }\n",
              "\n",
              "    .dataframe thead th {\n",
              "        text-align: right;\n",
              "    }\n",
              "</style>\n",
              "<table border=\"1\" class=\"dataframe\">\n",
              "  <thead>\n",
              "    <tr style=\"text-align: right;\">\n",
              "      <th></th>\n",
              "      <th>sl_id</th>\n",
              "      <th>item_no</th>\n",
              "      <th>v_total</th>\n",
              "      <th>a_total</th>\n",
              "      <th>a01</th>\n",
              "      <th>a02</th>\n",
              "      <th>a03</th>\n",
              "      <th>a04</th>\n",
              "      <th>a05</th>\n",
              "      <th>a06</th>\n",
              "      <th>...</th>\n",
              "      <th>a23</th>\n",
              "      <th>a24</th>\n",
              "      <th>a25</th>\n",
              "      <th>a26</th>\n",
              "      <th>a27</th>\n",
              "      <th>a28</th>\n",
              "      <th>in_temp</th>\n",
              "      <th>status0</th>\n",
              "      <th>status1</th>\n",
              "      <th>status2</th>\n",
              "    </tr>\n",
              "    <tr>\n",
              "      <th>create_date</th>\n",
              "      <th></th>\n",
              "      <th></th>\n",
              "      <th></th>\n",
              "      <th></th>\n",
              "      <th></th>\n",
              "      <th></th>\n",
              "      <th></th>\n",
              "      <th></th>\n",
              "      <th></th>\n",
              "      <th></th>\n",
              "      <th></th>\n",
              "      <th></th>\n",
              "      <th></th>\n",
              "      <th></th>\n",
              "      <th></th>\n",
              "      <th></th>\n",
              "      <th></th>\n",
              "      <th></th>\n",
              "      <th></th>\n",
              "      <th></th>\n",
              "      <th></th>\n",
              "    </tr>\n",
              "  </thead>\n",
              "  <tbody>\n",
              "    <tr>\n",
              "      <th>2021-01-01 05:00:00</th>\n",
              "      <td>1</td>\n",
              "      <td>15</td>\n",
              "      <td>0.00000</td>\n",
              "      <td>0.0</td>\n",
              "      <td>0.0</td>\n",
              "      <td>0.0</td>\n",
              "      <td>0.0</td>\n",
              "      <td>0.0</td>\n",
              "      <td>0.0</td>\n",
              "      <td>0.0</td>\n",
              "      <td>...</td>\n",
              "      <td>0</td>\n",
              "      <td>0</td>\n",
              "      <td>0</td>\n",
              "      <td>0</td>\n",
              "      <td>0</td>\n",
              "      <td>0</td>\n",
              "      <td>0.0</td>\n",
              "      <td>0</td>\n",
              "      <td>0</td>\n",
              "      <td>0</td>\n",
              "    </tr>\n",
              "    <tr>\n",
              "      <th>2021-01-01 05:01:00</th>\n",
              "      <td>1</td>\n",
              "      <td>15</td>\n",
              "      <td>0.00000</td>\n",
              "      <td>0.0</td>\n",
              "      <td>0.0</td>\n",
              "      <td>0.0</td>\n",
              "      <td>0.0</td>\n",
              "      <td>0.0</td>\n",
              "      <td>0.0</td>\n",
              "      <td>0.0</td>\n",
              "      <td>...</td>\n",
              "      <td>0</td>\n",
              "      <td>0</td>\n",
              "      <td>0</td>\n",
              "      <td>0</td>\n",
              "      <td>0</td>\n",
              "      <td>0</td>\n",
              "      <td>0.0</td>\n",
              "      <td>0</td>\n",
              "      <td>0</td>\n",
              "      <td>0</td>\n",
              "    </tr>\n",
              "    <tr>\n",
              "      <th>2021-01-01 05:02:00</th>\n",
              "      <td>1</td>\n",
              "      <td>15</td>\n",
              "      <td>0.00000</td>\n",
              "      <td>0.0</td>\n",
              "      <td>0.0</td>\n",
              "      <td>0.0</td>\n",
              "      <td>0.0</td>\n",
              "      <td>0.0</td>\n",
              "      <td>0.0</td>\n",
              "      <td>0.0</td>\n",
              "      <td>...</td>\n",
              "      <td>0</td>\n",
              "      <td>0</td>\n",
              "      <td>0</td>\n",
              "      <td>0</td>\n",
              "      <td>0</td>\n",
              "      <td>0</td>\n",
              "      <td>0.0</td>\n",
              "      <td>0</td>\n",
              "      <td>0</td>\n",
              "      <td>0</td>\n",
              "    </tr>\n",
              "    <tr>\n",
              "      <th>2021-01-01 05:03:00</th>\n",
              "      <td>1</td>\n",
              "      <td>15</td>\n",
              "      <td>0.00000</td>\n",
              "      <td>0.0</td>\n",
              "      <td>0.0</td>\n",
              "      <td>0.0</td>\n",
              "      <td>0.0</td>\n",
              "      <td>0.0</td>\n",
              "      <td>0.0</td>\n",
              "      <td>0.0</td>\n",
              "      <td>...</td>\n",
              "      <td>0</td>\n",
              "      <td>0</td>\n",
              "      <td>0</td>\n",
              "      <td>0</td>\n",
              "      <td>0</td>\n",
              "      <td>0</td>\n",
              "      <td>0.0</td>\n",
              "      <td>0</td>\n",
              "      <td>0</td>\n",
              "      <td>0</td>\n",
              "    </tr>\n",
              "    <tr>\n",
              "      <th>2021-01-01 05:04:00</th>\n",
              "      <td>1</td>\n",
              "      <td>15</td>\n",
              "      <td>0.00000</td>\n",
              "      <td>0.0</td>\n",
              "      <td>0.0</td>\n",
              "      <td>0.0</td>\n",
              "      <td>0.0</td>\n",
              "      <td>0.0</td>\n",
              "      <td>0.0</td>\n",
              "      <td>0.0</td>\n",
              "      <td>...</td>\n",
              "      <td>0</td>\n",
              "      <td>0</td>\n",
              "      <td>0</td>\n",
              "      <td>0</td>\n",
              "      <td>0</td>\n",
              "      <td>0</td>\n",
              "      <td>0.0</td>\n",
              "      <td>0</td>\n",
              "      <td>0</td>\n",
              "      <td>0</td>\n",
              "    </tr>\n",
              "    <tr>\n",
              "      <th>...</th>\n",
              "      <td>...</td>\n",
              "      <td>...</td>\n",
              "      <td>...</td>\n",
              "      <td>...</td>\n",
              "      <td>...</td>\n",
              "      <td>...</td>\n",
              "      <td>...</td>\n",
              "      <td>...</td>\n",
              "      <td>...</td>\n",
              "      <td>...</td>\n",
              "      <td>...</td>\n",
              "      <td>...</td>\n",
              "      <td>...</td>\n",
              "      <td>...</td>\n",
              "      <td>...</td>\n",
              "      <td>...</td>\n",
              "      <td>...</td>\n",
              "      <td>...</td>\n",
              "      <td>...</td>\n",
              "      <td>...</td>\n",
              "      <td>...</td>\n",
              "    </tr>\n",
              "    <tr>\n",
              "      <th>2022-03-30 09:51:00</th>\n",
              "      <td>1</td>\n",
              "      <td>15</td>\n",
              "      <td>664.50000</td>\n",
              "      <td>11.7</td>\n",
              "      <td>0.7</td>\n",
              "      <td>0.6</td>\n",
              "      <td>0.7</td>\n",
              "      <td>0.7</td>\n",
              "      <td>0.6</td>\n",
              "      <td>0.6</td>\n",
              "      <td>...</td>\n",
              "      <td>0</td>\n",
              "      <td>0</td>\n",
              "      <td>0</td>\n",
              "      <td>0</td>\n",
              "      <td>0</td>\n",
              "      <td>0</td>\n",
              "      <td>11.8</td>\n",
              "      <td>0</td>\n",
              "      <td>0</td>\n",
              "      <td>0</td>\n",
              "    </tr>\n",
              "    <tr>\n",
              "      <th>2022-03-30 09:52:00</th>\n",
              "      <td>1</td>\n",
              "      <td>15</td>\n",
              "      <td>660.50000</td>\n",
              "      <td>11.1</td>\n",
              "      <td>0.6</td>\n",
              "      <td>0.6</td>\n",
              "      <td>0.7</td>\n",
              "      <td>0.6</td>\n",
              "      <td>0.6</td>\n",
              "      <td>0.6</td>\n",
              "      <td>...</td>\n",
              "      <td>0</td>\n",
              "      <td>0</td>\n",
              "      <td>0</td>\n",
              "      <td>0</td>\n",
              "      <td>0</td>\n",
              "      <td>0</td>\n",
              "      <td>11.8</td>\n",
              "      <td>0</td>\n",
              "      <td>0</td>\n",
              "      <td>0</td>\n",
              "    </tr>\n",
              "    <tr>\n",
              "      <th>2022-03-30 09:53:00</th>\n",
              "      <td>1</td>\n",
              "      <td>15</td>\n",
              "      <td>663.59998</td>\n",
              "      <td>11.6</td>\n",
              "      <td>0.7</td>\n",
              "      <td>0.6</td>\n",
              "      <td>0.7</td>\n",
              "      <td>0.7</td>\n",
              "      <td>0.6</td>\n",
              "      <td>0.6</td>\n",
              "      <td>...</td>\n",
              "      <td>0</td>\n",
              "      <td>0</td>\n",
              "      <td>0</td>\n",
              "      <td>0</td>\n",
              "      <td>0</td>\n",
              "      <td>0</td>\n",
              "      <td>11.8</td>\n",
              "      <td>0</td>\n",
              "      <td>0</td>\n",
              "      <td>0</td>\n",
              "    </tr>\n",
              "    <tr>\n",
              "      <th>2022-03-30 09:54:00</th>\n",
              "      <td>1</td>\n",
              "      <td>15</td>\n",
              "      <td>666.79999</td>\n",
              "      <td>12.2</td>\n",
              "      <td>0.7</td>\n",
              "      <td>0.7</td>\n",
              "      <td>0.7</td>\n",
              "      <td>0.7</td>\n",
              "      <td>0.6</td>\n",
              "      <td>0.6</td>\n",
              "      <td>...</td>\n",
              "      <td>0</td>\n",
              "      <td>0</td>\n",
              "      <td>0</td>\n",
              "      <td>0</td>\n",
              "      <td>0</td>\n",
              "      <td>0</td>\n",
              "      <td>11.8</td>\n",
              "      <td>0</td>\n",
              "      <td>0</td>\n",
              "      <td>0</td>\n",
              "    </tr>\n",
              "    <tr>\n",
              "      <th>2022-03-30 09:55:00</th>\n",
              "      <td>1</td>\n",
              "      <td>15</td>\n",
              "      <td>662.79999</td>\n",
              "      <td>12.3</td>\n",
              "      <td>0.7</td>\n",
              "      <td>0.7</td>\n",
              "      <td>0.7</td>\n",
              "      <td>0.7</td>\n",
              "      <td>0.6</td>\n",
              "      <td>0.6</td>\n",
              "      <td>...</td>\n",
              "      <td>0</td>\n",
              "      <td>0</td>\n",
              "      <td>0</td>\n",
              "      <td>0</td>\n",
              "      <td>0</td>\n",
              "      <td>0</td>\n",
              "      <td>11.9</td>\n",
              "      <td>0</td>\n",
              "      <td>0</td>\n",
              "      <td>0</td>\n",
              "    </tr>\n",
              "  </tbody>\n",
              "</table>\n",
              "<p>422734 rows × 36 columns</p>\n",
              "</div>"
            ],
            "text/plain": [
              "                    sl_id  item_no    v_total  a_total  a01  a02  a03  a04  \\\n",
              "create_date                                                                  \n",
              "2021-01-01 05:00:00     1       15    0.00000      0.0  0.0  0.0  0.0  0.0   \n",
              "2021-01-01 05:01:00     1       15    0.00000      0.0  0.0  0.0  0.0  0.0   \n",
              "2021-01-01 05:02:00     1       15    0.00000      0.0  0.0  0.0  0.0  0.0   \n",
              "2021-01-01 05:03:00     1       15    0.00000      0.0  0.0  0.0  0.0  0.0   \n",
              "2021-01-01 05:04:00     1       15    0.00000      0.0  0.0  0.0  0.0  0.0   \n",
              "...                   ...      ...        ...      ...  ...  ...  ...  ...   \n",
              "2022-03-30 09:51:00     1       15  664.50000     11.7  0.7  0.6  0.7  0.7   \n",
              "2022-03-30 09:52:00     1       15  660.50000     11.1  0.6  0.6  0.7  0.6   \n",
              "2022-03-30 09:53:00     1       15  663.59998     11.6  0.7  0.6  0.7  0.7   \n",
              "2022-03-30 09:54:00     1       15  666.79999     12.2  0.7  0.7  0.7  0.7   \n",
              "2022-03-30 09:55:00     1       15  662.79999     12.3  0.7  0.7  0.7  0.7   \n",
              "\n",
              "                     a05  a06  ... a23 a24 a25 a26 a27 a28 in_temp status0  \\\n",
              "create_date                    ...                                           \n",
              "2021-01-01 05:00:00  0.0  0.0  ...   0   0   0   0   0   0     0.0       0   \n",
              "2021-01-01 05:01:00  0.0  0.0  ...   0   0   0   0   0   0     0.0       0   \n",
              "2021-01-01 05:02:00  0.0  0.0  ...   0   0   0   0   0   0     0.0       0   \n",
              "2021-01-01 05:03:00  0.0  0.0  ...   0   0   0   0   0   0     0.0       0   \n",
              "2021-01-01 05:04:00  0.0  0.0  ...   0   0   0   0   0   0     0.0       0   \n",
              "...                  ...  ...  ...  ..  ..  ..  ..  ..  ..     ...     ...   \n",
              "2022-03-30 09:51:00  0.6  0.6  ...   0   0   0   0   0   0    11.8       0   \n",
              "2022-03-30 09:52:00  0.6  0.6  ...   0   0   0   0   0   0    11.8       0   \n",
              "2022-03-30 09:53:00  0.6  0.6  ...   0   0   0   0   0   0    11.8       0   \n",
              "2022-03-30 09:54:00  0.6  0.6  ...   0   0   0   0   0   0    11.8       0   \n",
              "2022-03-30 09:55:00  0.6  0.6  ...   0   0   0   0   0   0    11.9       0   \n",
              "\n",
              "                    status1 status2  \n",
              "create_date                          \n",
              "2021-01-01 05:00:00       0       0  \n",
              "2021-01-01 05:01:00       0       0  \n",
              "2021-01-01 05:02:00       0       0  \n",
              "2021-01-01 05:03:00       0       0  \n",
              "2021-01-01 05:04:00       0       0  \n",
              "...                     ...     ...  \n",
              "2022-03-30 09:51:00       0       0  \n",
              "2022-03-30 09:52:00       0       0  \n",
              "2022-03-30 09:53:00       0       0  \n",
              "2022-03-30 09:54:00       0       0  \n",
              "2022-03-30 09:55:00       0       0  \n",
              "\n",
              "[422734 rows x 36 columns]"
            ]
          },
          "execution_count": 18,
          "metadata": {},
          "output_type": "execute_result"
        }
      ],
      "source": [
        "df_connectbox15"
      ]
    },
    {
      "cell_type": "code",
      "execution_count": null,
      "id": "85df2762-f08a-4389-9e6b-6a1d6a9eba94",
      "metadata": {
        "id": "85df2762-f08a-4389-9e6b-6a1d6a9eba94",
        "outputId": "a03e7ed4-b454-446f-fc95-08308241fd66"
      },
      "outputs": [
        {
          "data": {
            "text/html": [
              "<div>\n",
              "<style scoped>\n",
              "    .dataframe tbody tr th:only-of-type {\n",
              "        vertical-align: middle;\n",
              "    }\n",
              "\n",
              "    .dataframe tbody tr th {\n",
              "        vertical-align: top;\n",
              "    }\n",
              "\n",
              "    .dataframe thead th {\n",
              "        text-align: right;\n",
              "    }\n",
              "</style>\n",
              "<table border=\"1\" class=\"dataframe\">\n",
              "  <thead>\n",
              "    <tr style=\"text-align: right;\">\n",
              "      <th></th>\n",
              "      <th>sl_id</th>\n",
              "      <th>item_no</th>\n",
              "      <th>s_radiation</th>\n",
              "      <th>h_radiation</th>\n",
              "      <th>mod_temp</th>\n",
              "      <th>out_temp</th>\n",
              "      <th>wind_direction</th>\n",
              "      <th>wind_speed</th>\n",
              "      <th>rainfall</th>\n",
              "      <th>humidity</th>\n",
              "      <th>ma1</th>\n",
              "      <th>ma2</th>\n",
              "      <th>out_temp2</th>\n",
              "      <th>status0</th>\n",
              "      <th>status1</th>\n",
              "      <th>status2</th>\n",
              "    </tr>\n",
              "    <tr>\n",
              "      <th>create_date</th>\n",
              "      <th></th>\n",
              "      <th></th>\n",
              "      <th></th>\n",
              "      <th></th>\n",
              "      <th></th>\n",
              "      <th></th>\n",
              "      <th></th>\n",
              "      <th></th>\n",
              "      <th></th>\n",
              "      <th></th>\n",
              "      <th></th>\n",
              "      <th></th>\n",
              "      <th></th>\n",
              "      <th></th>\n",
              "      <th></th>\n",
              "      <th></th>\n",
              "    </tr>\n",
              "  </thead>\n",
              "  <tbody>\n",
              "    <tr>\n",
              "      <th>2021-01-01 05:00:00</th>\n",
              "      <td>1</td>\n",
              "      <td>18</td>\n",
              "      <td>20.5625</td>\n",
              "      <td>0.0</td>\n",
              "      <td>1.299999</td>\n",
              "      <td>-2.299999</td>\n",
              "      <td>0</td>\n",
              "      <td>0</td>\n",
              "      <td>0</td>\n",
              "      <td>0</td>\n",
              "      <td>0</td>\n",
              "      <td>0</td>\n",
              "      <td>0</td>\n",
              "      <td>0</td>\n",
              "      <td>0</td>\n",
              "      <td>0</td>\n",
              "    </tr>\n",
              "    <tr>\n",
              "      <th>2021-01-01 05:01:00</th>\n",
              "      <td>1</td>\n",
              "      <td>18</td>\n",
              "      <td>20.5625</td>\n",
              "      <td>0.0</td>\n",
              "      <td>1.299999</td>\n",
              "      <td>-2.299999</td>\n",
              "      <td>0</td>\n",
              "      <td>0</td>\n",
              "      <td>0</td>\n",
              "      <td>0</td>\n",
              "      <td>0</td>\n",
              "      <td>0</td>\n",
              "      <td>0</td>\n",
              "      <td>0</td>\n",
              "      <td>0</td>\n",
              "      <td>0</td>\n",
              "    </tr>\n",
              "    <tr>\n",
              "      <th>2021-01-01 05:02:00</th>\n",
              "      <td>1</td>\n",
              "      <td>18</td>\n",
              "      <td>20.5625</td>\n",
              "      <td>0.0</td>\n",
              "      <td>1.299999</td>\n",
              "      <td>-2.400000</td>\n",
              "      <td>0</td>\n",
              "      <td>0</td>\n",
              "      <td>0</td>\n",
              "      <td>0</td>\n",
              "      <td>0</td>\n",
              "      <td>0</td>\n",
              "      <td>0</td>\n",
              "      <td>0</td>\n",
              "      <td>0</td>\n",
              "      <td>0</td>\n",
              "    </tr>\n",
              "    <tr>\n",
              "      <th>2021-01-01 05:03:00</th>\n",
              "      <td>1</td>\n",
              "      <td>18</td>\n",
              "      <td>20.5625</td>\n",
              "      <td>0.0</td>\n",
              "      <td>1.299999</td>\n",
              "      <td>-2.299999</td>\n",
              "      <td>0</td>\n",
              "      <td>0</td>\n",
              "      <td>0</td>\n",
              "      <td>0</td>\n",
              "      <td>0</td>\n",
              "      <td>0</td>\n",
              "      <td>0</td>\n",
              "      <td>0</td>\n",
              "      <td>0</td>\n",
              "      <td>0</td>\n",
              "    </tr>\n",
              "    <tr>\n",
              "      <th>2021-01-01 05:04:00</th>\n",
              "      <td>1</td>\n",
              "      <td>18</td>\n",
              "      <td>20.5625</td>\n",
              "      <td>0.0</td>\n",
              "      <td>1.299999</td>\n",
              "      <td>-2.299999</td>\n",
              "      <td>0</td>\n",
              "      <td>0</td>\n",
              "      <td>0</td>\n",
              "      <td>0</td>\n",
              "      <td>0</td>\n",
              "      <td>0</td>\n",
              "      <td>0</td>\n",
              "      <td>0</td>\n",
              "      <td>0</td>\n",
              "      <td>0</td>\n",
              "    </tr>\n",
              "    <tr>\n",
              "      <th>...</th>\n",
              "      <td>...</td>\n",
              "      <td>...</td>\n",
              "      <td>...</td>\n",
              "      <td>...</td>\n",
              "      <td>...</td>\n",
              "      <td>...</td>\n",
              "      <td>...</td>\n",
              "      <td>...</td>\n",
              "      <td>...</td>\n",
              "      <td>...</td>\n",
              "      <td>...</td>\n",
              "      <td>...</td>\n",
              "      <td>...</td>\n",
              "      <td>...</td>\n",
              "      <td>...</td>\n",
              "      <td>...</td>\n",
              "    </tr>\n",
              "    <tr>\n",
              "      <th>2022-03-30 09:51:00</th>\n",
              "      <td>1</td>\n",
              "      <td>18</td>\n",
              "      <td>66.0625</td>\n",
              "      <td>56.4375</td>\n",
              "      <td>13.200001</td>\n",
              "      <td>9.799999</td>\n",
              "      <td>0</td>\n",
              "      <td>0</td>\n",
              "      <td>0</td>\n",
              "      <td>0</td>\n",
              "      <td>0</td>\n",
              "      <td>0</td>\n",
              "      <td>0</td>\n",
              "      <td>0</td>\n",
              "      <td>0</td>\n",
              "      <td>0</td>\n",
              "    </tr>\n",
              "    <tr>\n",
              "      <th>2022-03-30 09:52:00</th>\n",
              "      <td>1</td>\n",
              "      <td>18</td>\n",
              "      <td>63.875</td>\n",
              "      <td>54.6875</td>\n",
              "      <td>13.200001</td>\n",
              "      <td>9.900000</td>\n",
              "      <td>0</td>\n",
              "      <td>0</td>\n",
              "      <td>0</td>\n",
              "      <td>0</td>\n",
              "      <td>0</td>\n",
              "      <td>0</td>\n",
              "      <td>0</td>\n",
              "      <td>0</td>\n",
              "      <td>0</td>\n",
              "      <td>0</td>\n",
              "    </tr>\n",
              "    <tr>\n",
              "      <th>2022-03-30 09:53:00</th>\n",
              "      <td>1</td>\n",
              "      <td>18</td>\n",
              "      <td>68.6875</td>\n",
              "      <td>60.375</td>\n",
              "      <td>13.299999</td>\n",
              "      <td>10.000000</td>\n",
              "      <td>0</td>\n",
              "      <td>0</td>\n",
              "      <td>0</td>\n",
              "      <td>0</td>\n",
              "      <td>0</td>\n",
              "      <td>0</td>\n",
              "      <td>0</td>\n",
              "      <td>0</td>\n",
              "      <td>0</td>\n",
              "      <td>0</td>\n",
              "    </tr>\n",
              "    <tr>\n",
              "      <th>2022-03-30 09:54:00</th>\n",
              "      <td>1</td>\n",
              "      <td>18</td>\n",
              "      <td>70.875</td>\n",
              "      <td>62.5625</td>\n",
              "      <td>13.299999</td>\n",
              "      <td>10.000000</td>\n",
              "      <td>0</td>\n",
              "      <td>0</td>\n",
              "      <td>0</td>\n",
              "      <td>0</td>\n",
              "      <td>0</td>\n",
              "      <td>0</td>\n",
              "      <td>0</td>\n",
              "      <td>0</td>\n",
              "      <td>0</td>\n",
              "      <td>0</td>\n",
              "    </tr>\n",
              "    <tr>\n",
              "      <th>2022-03-30 09:55:00</th>\n",
              "      <td>1</td>\n",
              "      <td>18</td>\n",
              "      <td>70.0</td>\n",
              "      <td>61.25</td>\n",
              "      <td>13.299999</td>\n",
              "      <td>10.100000</td>\n",
              "      <td>0</td>\n",
              "      <td>0</td>\n",
              "      <td>0</td>\n",
              "      <td>0</td>\n",
              "      <td>0</td>\n",
              "      <td>0</td>\n",
              "      <td>0</td>\n",
              "      <td>0</td>\n",
              "      <td>0</td>\n",
              "      <td>0</td>\n",
              "    </tr>\n",
              "  </tbody>\n",
              "</table>\n",
              "<p>422734 rows × 16 columns</p>\n",
              "</div>"
            ],
            "text/plain": [
              "                    sl_id item_no s_radiation h_radiation   mod_temp  \\\n",
              "create_date                                                            \n",
              "2021-01-01 05:00:00     1      18     20.5625         0.0   1.299999   \n",
              "2021-01-01 05:01:00     1      18     20.5625         0.0   1.299999   \n",
              "2021-01-01 05:02:00     1      18     20.5625         0.0   1.299999   \n",
              "2021-01-01 05:03:00     1      18     20.5625         0.0   1.299999   \n",
              "2021-01-01 05:04:00     1      18     20.5625         0.0   1.299999   \n",
              "...                   ...     ...         ...         ...        ...   \n",
              "2022-03-30 09:51:00     1      18     66.0625     56.4375  13.200001   \n",
              "2022-03-30 09:52:00     1      18      63.875     54.6875  13.200001   \n",
              "2022-03-30 09:53:00     1      18     68.6875      60.375  13.299999   \n",
              "2022-03-30 09:54:00     1      18      70.875     62.5625  13.299999   \n",
              "2022-03-30 09:55:00     1      18        70.0       61.25  13.299999   \n",
              "\n",
              "                      out_temp wind_direction wind_speed rainfall humidity  \\\n",
              "create_date                                                                  \n",
              "2021-01-01 05:00:00  -2.299999              0          0        0        0   \n",
              "2021-01-01 05:01:00  -2.299999              0          0        0        0   \n",
              "2021-01-01 05:02:00  -2.400000              0          0        0        0   \n",
              "2021-01-01 05:03:00  -2.299999              0          0        0        0   \n",
              "2021-01-01 05:04:00  -2.299999              0          0        0        0   \n",
              "...                        ...            ...        ...      ...      ...   \n",
              "2022-03-30 09:51:00   9.799999              0          0        0        0   \n",
              "2022-03-30 09:52:00   9.900000              0          0        0        0   \n",
              "2022-03-30 09:53:00  10.000000              0          0        0        0   \n",
              "2022-03-30 09:54:00  10.000000              0          0        0        0   \n",
              "2022-03-30 09:55:00  10.100000              0          0        0        0   \n",
              "\n",
              "                    ma1 ma2 out_temp2 status0 status1 status2  \n",
              "create_date                                                    \n",
              "2021-01-01 05:00:00   0   0         0       0       0       0  \n",
              "2021-01-01 05:01:00   0   0         0       0       0       0  \n",
              "2021-01-01 05:02:00   0   0         0       0       0       0  \n",
              "2021-01-01 05:03:00   0   0         0       0       0       0  \n",
              "2021-01-01 05:04:00   0   0         0       0       0       0  \n",
              "...                  ..  ..       ...     ...     ...     ...  \n",
              "2022-03-30 09:51:00   0   0         0       0       0       0  \n",
              "2022-03-30 09:52:00   0   0         0       0       0       0  \n",
              "2022-03-30 09:53:00   0   0         0       0       0       0  \n",
              "2022-03-30 09:54:00   0   0         0       0       0       0  \n",
              "2022-03-30 09:55:00   0   0         0       0       0       0  \n",
              "\n",
              "[422734 rows x 16 columns]"
            ]
          },
          "execution_count": 19,
          "metadata": {},
          "output_type": "execute_result"
        }
      ],
      "source": [
        "df_weather"
      ]
    },
    {
      "cell_type": "markdown",
      "id": "d4b2e16f-a383-4d84-941c-6c2fd1e9411f",
      "metadata": {
        "id": "d4b2e16f-a383-4d84-941c-6c2fd1e9411f"
      },
      "source": [
        "## 2.2 상관계수를 통한 Feature Selection\n",
        "접속반 데이터중 대표 접속반인 접속반 15번(df_15)과 기상데이터(df_weather)를 생성일시 기준으로 융합(MS Excel 활용)\n",
        "![image.png](attachment:dc22895b-b5d4-4c94-ad4b-ae737541326a.png)\n",
        "![image.png](attachment:ee27111b-2447-47e1-8093-0544efc76211.png)\n",
        "\n",
        "예상과 같이 <b>*단자대온도와 외기온도, 모듈온도, 발전전압*</b>순 으로 0.5이상으로 강한 양의 상관관계를 보였다.\n",
        "모듈온도와 외기온도는 동일한 Feature로 판단하여 외기온도 하나만을 선택 하였다."
      ]
    },
    {
      "cell_type": "markdown",
      "id": "15403906-6a8a-469e-ae70-f7ca852fbdde",
      "metadata": {
        "id": "15403906-6a8a-469e-ae70-f7ca852fbdde"
      },
      "source": [
        "## 2.2 설정시간>5분>10분전 이동 데이터 생성\n",
        "\n",
        "설정시간을 기준으로 설정시간, 과거 5분전, 과거 10분전 이동 데이터셋 생성"
      ]
    },
    {
      "cell_type": "markdown",
      "id": "27965a9d-2de1-4498-aaae-508972db06be",
      "metadata": {
        "id": "27965a9d-2de1-4498-aaae-508972db06be"
      },
      "source": [
        "### 2.2.1 설정시간 기준 이동 데이터 추출 함수"
      ]
    },
    {
      "cell_type": "code",
      "execution_count": null,
      "id": "0e402abc-7bb8-41a1-8f07-7c1cef117056",
      "metadata": {
        "id": "0e402abc-7bb8-41a1-8f07-7c1cef117056"
      },
      "outputs": [],
      "source": [
        "# 기준시간 이동추출을 위한 Function\n",
        "def my_shift_time(df, col_name, lag):\n",
        "    x = df[col_name].copy()\n",
        "    x.index += pd.Timedelta(minutes=lag)\n",
        "    return x"
      ]
    },
    {
      "cell_type": "markdown",
      "id": "c6c2dbe6-e951-4fb7-9df2-1b14987b74ff",
      "metadata": {
        "id": "c6c2dbe6-e951-4fb7-9df2-1b14987b74ff"
      },
      "source": [
        "### 2.2.2 설정시간 초기화\n",
        "\n",
        "설정시간과 예측시간과의 차이를 조정함으로써 적절한 시간차를 찾아 적용해야한다\n",
        "시간차가 너무 짧을 경우 설정시간과 예측시간과의 차이가 거의 없어 재대로된 예측이 불가하고 시간차가 너무 길 경우 재대로된 예측모델을 만들기 어렵다\n",
        "10분부터 10분씩 증가 시키며 최적의 골든타임을 찾는다  "
      ]
    },
    {
      "cell_type": "code",
      "execution_count": null,
      "id": "cc0f8e39-5f46-48c1-a48b-2da72fe7c231",
      "metadata": {
        "id": "cc0f8e39-5f46-48c1-a48b-2da72fe7c231"
      },
      "outputs": [],
      "source": [
        "# 10~50 분\n",
        "iTime = 40"
      ]
    },
    {
      "cell_type": "markdown",
      "id": "4a092384-6ee6-484a-9cab-d6379427f56f",
      "metadata": {
        "id": "4a092384-6ee6-484a-9cab-d6379427f56f"
      },
      "source": [
        "### 2.2.3 분석 DataSet 생성"
      ]
    },
    {
      "cell_type": "code",
      "execution_count": null,
      "id": "fd0a24c9-780a-4f32-bbe3-c636686729b5",
      "metadata": {
        "id": "fd0a24c9-780a-4f32-bbe3-c636686729b5"
      },
      "outputs": [],
      "source": [
        "# df_weather 외기온도 배열 선언\n",
        "out_temp=[]\n",
        "# df_connectbox15 내부온도 배열선언\n",
        "in_temp=[]\n",
        "# df_connectbox15 발전전류 배열선언\n",
        "a_total=[]\n",
        "\n",
        "for min5 in [0, 5, 10]:\n",
        "    out_temp.append(my_shift_time(df_weather, 'out_temp', min5+iTime))\n",
        "    in_temp.append(my_shift_time(df_connectbox15, 'in_temp', min5+iTime))\n",
        "    a_total.append(my_shift_time(df_connectbox15, 'a_total', min5+iTime))\n",
        ""
      ]
    },
    {
      "cell_type": "code",
      "execution_count": null,
      "id": "6b3b43e6-8ebc-44ec-a066-c4db28c976f6",
      "metadata": {
        "id": "6b3b43e6-8ebc-44ec-a066-c4db28c976f6",
        "outputId": "0f9c24a7-2643-45cc-dcca-36481409aade"
      },
      "outputs": [
        {
          "data": {
            "text/plain": [
              "create_date\n",
              "2021-01-01 05:50:00    -2.299999\n",
              "2021-01-01 05:51:00    -2.299999\n",
              "2021-01-01 05:52:00    -2.400000\n",
              "2021-01-01 05:53:00    -2.299999\n",
              "2021-01-01 05:54:00    -2.299999\n",
              "                         ...    \n",
              "2022-03-30 10:41:00     9.799999\n",
              "2022-03-30 10:42:00     9.900000\n",
              "2022-03-30 10:43:00    10.000000\n",
              "2022-03-30 10:44:00    10.000000\n",
              "2022-03-30 10:45:00    10.100000\n",
              "Name: out_temp, Length: 422734, dtype: float64"
            ]
          },
          "execution_count": 23,
          "metadata": {},
          "output_type": "execute_result"
        }
      ],
      "source": [
        "out_temp[2]"
      ]
    },
    {
      "cell_type": "markdown",
      "id": "e473d06e-bf4d-43ce-9733-e192168dd063",
      "metadata": {
        "id": "e473d06e-bf4d-43ce-9733-e192168dd063"
      },
      "source": [
        "<b> 기상 데이터와 접속반(#15) 융복합 </b>\n",
        "\n",
        "접속반 데이터중 대표 접속반인 접속반 15번(df_15)과 기상데이터(df_weather)를 생성일시 기준으로 융합\n",
        "\n",
        "![image.png](attachment:530933f4-9c2a-4ff4-b167-350a974fa115.png)\n",
        "![image.png](attachment:a15c984b-9751-4be4-9069-366240fb9f5a.png)"
      ]
    },
    {
      "cell_type": "code",
      "execution_count": null,
      "id": "6e2db8ff-61c9-4dc8-a477-e93671486195",
      "metadata": {
        "id": "6e2db8ff-61c9-4dc8-a477-e93671486195"
      },
      "outputs": [],
      "source": [
        "df15 = [ out_temp[0], in_temp[0],a_total[0],  out_temp[1], in_temp[1],a_total[1], out_temp[2], in_temp[2],a_total[2],  df_connectbox15[\"in_temp\"]]\n",
        "df_15 = reduce(lambda x, y : pd.merge(x, y, on = 'create_date'), df15)"
      ]
    },
    {
      "cell_type": "code",
      "execution_count": null,
      "id": "208c0f7b-5bbe-4041-9a8a-5ee7eb467043",
      "metadata": {
        "id": "208c0f7b-5bbe-4041-9a8a-5ee7eb467043",
        "outputId": "53eed4b8-4eed-47a7-8f67-a28e8f7cf2da"
      },
      "outputs": [
        {
          "data": {
            "text/html": [
              "<div>\n",
              "<style scoped>\n",
              "    .dataframe tbody tr th:only-of-type {\n",
              "        vertical-align: middle;\n",
              "    }\n",
              "\n",
              "    .dataframe tbody tr th {\n",
              "        vertical-align: top;\n",
              "    }\n",
              "\n",
              "    .dataframe thead th {\n",
              "        text-align: right;\n",
              "    }\n",
              "</style>\n",
              "<table border=\"1\" class=\"dataframe\">\n",
              "  <thead>\n",
              "    <tr style=\"text-align: right;\">\n",
              "      <th></th>\n",
              "      <th>out_temp_p</th>\n",
              "      <th>in_temp_p</th>\n",
              "      <th>a_total_p</th>\n",
              "      <th>out_temp_5m</th>\n",
              "      <th>in_temp_5m</th>\n",
              "      <th>a_total_5m</th>\n",
              "      <th>out_temp_10m</th>\n",
              "      <th>in_temp_10m</th>\n",
              "      <th>a_total_10m</th>\n",
              "      <th>y_in_temp</th>\n",
              "    </tr>\n",
              "    <tr>\n",
              "      <th>create_date</th>\n",
              "      <th></th>\n",
              "      <th></th>\n",
              "      <th></th>\n",
              "      <th></th>\n",
              "      <th></th>\n",
              "      <th></th>\n",
              "      <th></th>\n",
              "      <th></th>\n",
              "      <th></th>\n",
              "      <th></th>\n",
              "    </tr>\n",
              "  </thead>\n",
              "  <tbody>\n",
              "    <tr>\n",
              "      <th>2021-01-01 05:50:00</th>\n",
              "      <td>-2.299999</td>\n",
              "      <td>0.0</td>\n",
              "      <td>0.0</td>\n",
              "      <td>-2.299999</td>\n",
              "      <td>0.0</td>\n",
              "      <td>0.0</td>\n",
              "      <td>-2.299999</td>\n",
              "      <td>0.0</td>\n",
              "      <td>0.0</td>\n",
              "      <td>-0.1</td>\n",
              "    </tr>\n",
              "    <tr>\n",
              "      <th>2021-01-01 05:51:00</th>\n",
              "      <td>-2.299999</td>\n",
              "      <td>0.0</td>\n",
              "      <td>0.0</td>\n",
              "      <td>-2.299999</td>\n",
              "      <td>0.0</td>\n",
              "      <td>0.0</td>\n",
              "      <td>-2.299999</td>\n",
              "      <td>0.0</td>\n",
              "      <td>0.0</td>\n",
              "      <td>-0.1</td>\n",
              "    </tr>\n",
              "    <tr>\n",
              "      <th>2021-01-01 05:52:00</th>\n",
              "      <td>-2.299999</td>\n",
              "      <td>-0.1</td>\n",
              "      <td>0.0</td>\n",
              "      <td>-2.200001</td>\n",
              "      <td>0.0</td>\n",
              "      <td>0.0</td>\n",
              "      <td>-2.400000</td>\n",
              "      <td>0.0</td>\n",
              "      <td>0.0</td>\n",
              "      <td>-0.2</td>\n",
              "    </tr>\n",
              "    <tr>\n",
              "      <th>2021-01-01 05:53:00</th>\n",
              "      <td>-2.299999</td>\n",
              "      <td>-0.1</td>\n",
              "      <td>0.0</td>\n",
              "      <td>-2.299999</td>\n",
              "      <td>0.0</td>\n",
              "      <td>0.0</td>\n",
              "      <td>-2.299999</td>\n",
              "      <td>0.0</td>\n",
              "      <td>0.0</td>\n",
              "      <td>-0.2</td>\n",
              "    </tr>\n",
              "    <tr>\n",
              "      <th>2021-01-01 05:54:00</th>\n",
              "      <td>-2.299999</td>\n",
              "      <td>-0.1</td>\n",
              "      <td>0.0</td>\n",
              "      <td>-2.299999</td>\n",
              "      <td>0.0</td>\n",
              "      <td>0.0</td>\n",
              "      <td>-2.299999</td>\n",
              "      <td>0.0</td>\n",
              "      <td>0.0</td>\n",
              "      <td>-0.2</td>\n",
              "    </tr>\n",
              "    <tr>\n",
              "      <th>...</th>\n",
              "      <td>...</td>\n",
              "      <td>...</td>\n",
              "      <td>...</td>\n",
              "      <td>...</td>\n",
              "      <td>...</td>\n",
              "      <td>...</td>\n",
              "      <td>...</td>\n",
              "      <td>...</td>\n",
              "      <td>...</td>\n",
              "      <td>...</td>\n",
              "    </tr>\n",
              "    <tr>\n",
              "      <th>2022-03-30 09:50:00</th>\n",
              "      <td>9.799999</td>\n",
              "      <td>10.8</td>\n",
              "      <td>8.8</td>\n",
              "      <td>10.100000</td>\n",
              "      <td>10.7</td>\n",
              "      <td>2.4</td>\n",
              "      <td>10.200001</td>\n",
              "      <td>10.5</td>\n",
              "      <td>7.6</td>\n",
              "      <td>11.8</td>\n",
              "    </tr>\n",
              "    <tr>\n",
              "      <th>2022-03-30 09:51:00</th>\n",
              "      <td>9.700001</td>\n",
              "      <td>10.9</td>\n",
              "      <td>9.2</td>\n",
              "      <td>10.000000</td>\n",
              "      <td>10.7</td>\n",
              "      <td>8.0</td>\n",
              "      <td>10.200001</td>\n",
              "      <td>10.6</td>\n",
              "      <td>3.2</td>\n",
              "      <td>11.8</td>\n",
              "    </tr>\n",
              "    <tr>\n",
              "      <th>2022-03-30 09:53:00</th>\n",
              "      <td>9.600000</td>\n",
              "      <td>11.0</td>\n",
              "      <td>8.3</td>\n",
              "      <td>9.900000</td>\n",
              "      <td>10.8</td>\n",
              "      <td>8.7</td>\n",
              "      <td>10.100000</td>\n",
              "      <td>10.6</td>\n",
              "      <td>6.1</td>\n",
              "      <td>11.8</td>\n",
              "    </tr>\n",
              "    <tr>\n",
              "      <th>2022-03-30 09:54:00</th>\n",
              "      <td>9.600000</td>\n",
              "      <td>11.0</td>\n",
              "      <td>7.6</td>\n",
              "      <td>9.799999</td>\n",
              "      <td>10.8</td>\n",
              "      <td>8.8</td>\n",
              "      <td>10.100000</td>\n",
              "      <td>10.7</td>\n",
              "      <td>0.8</td>\n",
              "      <td>11.8</td>\n",
              "    </tr>\n",
              "    <tr>\n",
              "      <th>2022-03-30 09:55:00</th>\n",
              "      <td>9.600000</td>\n",
              "      <td>11.0</td>\n",
              "      <td>7.6</td>\n",
              "      <td>9.799999</td>\n",
              "      <td>10.8</td>\n",
              "      <td>8.8</td>\n",
              "      <td>10.100000</td>\n",
              "      <td>10.7</td>\n",
              "      <td>2.4</td>\n",
              "      <td>11.9</td>\n",
              "    </tr>\n",
              "  </tbody>\n",
              "</table>\n",
              "<p>387897 rows × 10 columns</p>\n",
              "</div>"
            ],
            "text/plain": [
              "                     out_temp_p  in_temp_p  a_total_p  out_temp_5m  \\\n",
              "create_date                                                          \n",
              "2021-01-01 05:50:00   -2.299999        0.0        0.0    -2.299999   \n",
              "2021-01-01 05:51:00   -2.299999        0.0        0.0    -2.299999   \n",
              "2021-01-01 05:52:00   -2.299999       -0.1        0.0    -2.200001   \n",
              "2021-01-01 05:53:00   -2.299999       -0.1        0.0    -2.299999   \n",
              "2021-01-01 05:54:00   -2.299999       -0.1        0.0    -2.299999   \n",
              "...                         ...        ...        ...          ...   \n",
              "2022-03-30 09:50:00    9.799999       10.8        8.8    10.100000   \n",
              "2022-03-30 09:51:00    9.700001       10.9        9.2    10.000000   \n",
              "2022-03-30 09:53:00    9.600000       11.0        8.3     9.900000   \n",
              "2022-03-30 09:54:00    9.600000       11.0        7.6     9.799999   \n",
              "2022-03-30 09:55:00    9.600000       11.0        7.6     9.799999   \n",
              "\n",
              "                     in_temp_5m  a_total_5m  out_temp_10m  in_temp_10m  \\\n",
              "create_date                                                              \n",
              "2021-01-01 05:50:00         0.0         0.0     -2.299999          0.0   \n",
              "2021-01-01 05:51:00         0.0         0.0     -2.299999          0.0   \n",
              "2021-01-01 05:52:00         0.0         0.0     -2.400000          0.0   \n",
              "2021-01-01 05:53:00         0.0         0.0     -2.299999          0.0   \n",
              "2021-01-01 05:54:00         0.0         0.0     -2.299999          0.0   \n",
              "...                         ...         ...           ...          ...   \n",
              "2022-03-30 09:50:00        10.7         2.4     10.200001         10.5   \n",
              "2022-03-30 09:51:00        10.7         8.0     10.200001         10.6   \n",
              "2022-03-30 09:53:00        10.8         8.7     10.100000         10.6   \n",
              "2022-03-30 09:54:00        10.8         8.8     10.100000         10.7   \n",
              "2022-03-30 09:55:00        10.8         8.8     10.100000         10.7   \n",
              "\n",
              "                     a_total_10m  y_in_temp  \n",
              "create_date                                  \n",
              "2021-01-01 05:50:00          0.0       -0.1  \n",
              "2021-01-01 05:51:00          0.0       -0.1  \n",
              "2021-01-01 05:52:00          0.0       -0.2  \n",
              "2021-01-01 05:53:00          0.0       -0.2  \n",
              "2021-01-01 05:54:00          0.0       -0.2  \n",
              "...                          ...        ...  \n",
              "2022-03-30 09:50:00          7.6       11.8  \n",
              "2022-03-30 09:51:00          3.2       11.8  \n",
              "2022-03-30 09:53:00          6.1       11.8  \n",
              "2022-03-30 09:54:00          0.8       11.8  \n",
              "2022-03-30 09:55:00          2.4       11.9  \n",
              "\n",
              "[387897 rows x 10 columns]"
            ]
          },
          "execution_count": 25,
          "metadata": {},
          "output_type": "execute_result"
        }
      ],
      "source": [
        "df_15.columns = [\"out_temp_p\", \"in_temp_p\", \"a_total_p\", \"out_temp_5m\", \"in_temp_5m\", \"a_total_5m\", \"out_temp_10m\", \"in_temp_10m\", \"a_total_10m\",  \"y_in_temp\"]\n",
        "df_15"
      ]
    },
    {
      "cell_type": "markdown",
      "id": "c6613fcc-abb1-4cf3-b956-4cb9f822775c",
      "metadata": {
        "id": "c6613fcc-abb1-4cf3-b956-4cb9f822775c"
      },
      "source": [
        "# 3. 분석모델 학습하기\n",
        "## 3.1 교차검증(Cross Validation) 셋 분리하기"
      ]
    },
    {
      "cell_type": "code",
      "execution_count": null,
      "id": "b33508af-11cb-4f4b-a4f4-86f6f4ab4e01",
      "metadata": {
        "id": "b33508af-11cb-4f4b-a4f4-86f6f4ab4e01",
        "outputId": "2119ecd4-44e7-4ce7-97f6-d8237a794290"
      },
      "outputs": [
        {
          "name": "stdout",
          "output_type": "stream",
          "text": [
            "Features:\n",
            "[[-2.2999992   0.          0.         ... -2.2999992   0.\n",
            "   0.        ]\n",
            " [-2.2999992   0.          0.         ... -2.2999992   0.\n",
            "   0.        ]\n",
            " [-2.2999992  -0.1         0.         ... -2.3999996   0.\n",
            "   0.        ]\n",
            " ...\n",
            " [ 9.6000004  11.          8.3000002  ... 10.1        10.6\n",
            "   6.0999999 ]\n",
            " [ 9.6000004  11.          7.5999999  ... 10.1        10.7\n",
            "   0.80000001]\n",
            " [ 9.6000004  11.          7.5999999  ... 10.1        10.7\n",
            "   2.4000001 ]]\n",
            "\n",
            "Labels:\n",
            "[-0.1 -0.1 -0.2 ... 11.8 11.8 11.9]\n"
          ]
        }
      ],
      "source": [
        "# Separate features and labels\n",
        "X, y = df_15[[\"out_temp_p\", \"in_temp_p\", \"a_total_p\", \"out_temp_5m\", \"in_temp_5m\", \"a_total_5m\", \"out_temp_10m\", \"in_temp_10m\", \"a_total_10m\"]].values, df_15['y_in_temp'].values\n",
        "print('Features:',X[:387897], '\\nLabels:', y[:387897], sep='\\n')"
      ]
    },
    {
      "cell_type": "code",
      "execution_count": null,
      "id": "22a5250e-c19d-41c5-989b-478c088cf986",
      "metadata": {
        "id": "22a5250e-c19d-41c5-989b-478c088cf986",
        "outputId": "c01fb48a-2e39-4ffb-e783-843f62a27850"
      },
      "outputs": [
        {
          "name": "stdout",
          "output_type": "stream",
          "text": [
            "<class 'pandas.core.frame.DataFrame'>\n",
            "DatetimeIndex: 387897 entries, 2021-01-01 05:50:00 to 2022-03-30 09:55:00\n",
            "Data columns (total 10 columns):\n",
            " #   Column        Non-Null Count   Dtype  \n",
            "---  ------        --------------   -----  \n",
            " 0   out_temp_p    387897 non-null  float64\n",
            " 1   in_temp_p     387897 non-null  float64\n",
            " 2   a_total_p     387897 non-null  float64\n",
            " 3   out_temp_5m   387897 non-null  float64\n",
            " 4   in_temp_5m    387897 non-null  float64\n",
            " 5   a_total_5m    387897 non-null  float64\n",
            " 6   out_temp_10m  387897 non-null  float64\n",
            " 7   in_temp_10m   387897 non-null  float64\n",
            " 8   a_total_10m   387897 non-null  float64\n",
            " 9   y_in_temp     387897 non-null  float64\n",
            "dtypes: float64(10)\n",
            "memory usage: 32.6 MB\n"
          ]
        }
      ],
      "source": [
        "df_15.info()"
      ]
    },
    {
      "cell_type": "markdown",
      "id": "cfcb0420-ceeb-4a97-987a-755de7250c23",
      "metadata": {
        "id": "cfcb0420-ceeb-4a97-987a-755de7250c23"
      },
      "source": [
        "훈련 데이터셋(80% : 306,782건) 테스트 데이터셋(20%: 76,696건 )"
      ]
    },
    {
      "cell_type": "code",
      "execution_count": null,
      "id": "40a9cbb8-090a-4484-a515-7a25673b4f5e",
      "metadata": {
        "id": "40a9cbb8-090a-4484-a515-7a25673b4f5e",
        "outputId": "41cd433b-a73e-456f-e1f0-e9dda0a3db7b"
      },
      "outputs": [
        {
          "name": "stdout",
          "output_type": "stream",
          "text": [
            "Training Set: 310317 rows\n",
            "Test Set: 77580 rows\n"
          ]
        }
      ],
      "source": [
        "# Split data 80%-20% into training set and test set\n",
        "X_train_in, X_test_in, y_train_in, y_test_in = train_test_split(X, y, test_size=0.20, random_state=0)\n",
        "\n",
        "print ('Training Set: %d rows\\nTest Set: %d rows' % (X_train_in.shape[0], X_test_in.shape[0]))\n"
      ]
    },
    {
      "cell_type": "markdown",
      "id": "2c831030",
      "metadata": {
        "id": "2c831030"
      },
      "source": [
        "## 3.2 *LinearRegression* 학습하기"
      ]
    },
    {
      "cell_type": "code",
      "execution_count": null,
      "id": "075aae06-6e6b-4108-9284-b8108e665247",
      "metadata": {
        "id": "075aae06-6e6b-4108-9284-b8108e665247",
        "outputId": "974353e7-c508-4cb2-a39a-f4fa43a6bcd3"
      },
      "outputs": [
        {
          "name": "stdout",
          "output_type": "stream",
          "text": [
            "LinearRegression()\n"
          ]
        }
      ],
      "source": [
        "# Fit a linear regression model on the training set\n",
        "model = LinearRegression().fit(X_train_in, y_train_in)\n",
        "print (model)"
      ]
    },
    {
      "cell_type": "markdown",
      "id": "bf747d7b-8ba7-4411-96e0-7f815079e59c",
      "metadata": {
        "id": "bf747d7b-8ba7-4411-96e0-7f815079e59c"
      },
      "source": [
        "*test Data*로 확인하기"
      ]
    },
    {
      "cell_type": "code",
      "execution_count": null,
      "id": "d3851ec3-3bb2-4127-be8e-748eeddbbd26",
      "metadata": {
        "id": "d3851ec3-3bb2-4127-be8e-748eeddbbd26",
        "outputId": "0c60cc78-e492-44f6-a58e-8e0977719194"
      },
      "outputs": [
        {
          "name": "stdout",
          "output_type": "stream",
          "text": [
            "예측치 :  [46.1 26.5 24.7 24.8 18.1 31.3 26.4 29.4  9.5  0.4]\n",
            "관측치 :  [43.  26.4 24.1 24.5 17.6 29.9 26.5 29.   9.2  0.5]\n"
          ]
        }
      ],
      "source": [
        "predictions = model.predict(X_test_in)\n",
        "np.set_printoptions(suppress=True)\n",
        "print('예측치 : ', np.round(predictions,1)[:10])\n",
        "print('관측치 : ', np.round(y_test_in,1)[:10])"
      ]
    },
    {
      "cell_type": "markdown",
      "id": "8724693d-207d-4e1b-93e2-52c510359ae8",
      "metadata": {
        "id": "8724693d-207d-4e1b-93e2-52c510359ae8"
      },
      "source": [
        "### 3.2.1 오차율 확인하기"
      ]
    },
    {
      "cell_type": "code",
      "execution_count": null,
      "id": "f26af1ee-1904-4cd9-abe3-f9b0a45db33c",
      "metadata": {
        "id": "f26af1ee-1904-4cd9-abe3-f9b0a45db33c",
        "outputId": "16d04252-9960-4e80-a0d0-37f60f0d79f6"
      },
      "outputs": [
        {
          "data": {
            "image/png": "[encoded data removed]",
            "text/plain": [
              "<Figure size 432x288 with 1 Axes>"
            ]
          },
          "metadata": {
            "needs_background": "light"
          },
          "output_type": "display_data"
        }
      ],
      "source": [
        "plt.scatter(y_test_in, predictions)\n",
        "plt.xlabel('관측치')\n",
        "plt.ylabel('예측치')\n",
        "plt.title('단자대온도 예측')\n",
        "# overlay the regression line\n",
        "z = np.polyfit(y_test_in, predictions, 1)\n",
        "p = np.poly1d(z)\n",
        "plt.plot(y_test_in,p(y_test_in), color='magenta')\n",
        "plt.show()"
      ]
    },
    {
      "cell_type": "markdown",
      "id": "62857204-e559-4335-8b6c-92699d555aa9",
      "metadata": {
        "id": "62857204-e559-4335-8b6c-92699d555aa9"
      },
      "source": [
        "### 3.2.2 통계적인 해석 & 설명\n",
        "- $R^2$(R-Squared,결정계수 Coefficient of Determination) : 모형의 성능\n",
        "- coef(회귀계수) : X가 한단위 증가할때 y의 변화량\n",
        "- P>(t)(p-value:확률값) : 0.05(유의수준) 이하일 때 변수가 유의미함\n",
        "\n",
        "**RMSE**와 **MSE** 값의 차이가 없는것으로 보아 결측치나 극단치(outlier)가 없는것으로 보이고 오차율이 적다.\n",
        "설명력($R^2$)또한 거의 1에 근사하여 오버피팅이 의심 될정도 이다.\n",
        "\n",
        "Mean Squared Error(평균제곱오차)\n",
        "$MSE=\\frac{1}{n}\\sum_{i=0}^n (Y_{i}-\\hat{Y}_{i})^2$\n",
        "\n",
        "Root Mean Squared Error(제곱근 평균제곱오차)\n",
        "$ RMSE= \\sqrt{\\frac{1}{n}\\sum_{i=0}^n (Y_{i}-\\hat{Y}_{i})^2}$\n",
        "\n",
        "${n}$\t=\tnumber\tof\tdata points,\n",
        "$Y_{i}$\t=\tobserved values,\n",
        "$\\hat{Y}_{i}$\t=\tpredicted values\n",
        "\n",
        "$R^2$(R-Squared)\n",
        "- $R^2$는 0과 1사이에 존재\n",
        "- $R^2=1$ 현재가지고 있는 X변수로 Y를 100%설명"
      ]
    },
    {
      "cell_type": "code",
      "execution_count": null,
      "id": "59521ad0-e32a-4dda-b3e7-6b771f14aa8d",
      "metadata": {
        "id": "59521ad0-e32a-4dda-b3e7-6b771f14aa8d",
        "outputId": "5098f58c-9500-434b-a169-3a7dd8c29a88"
      },
      "outputs": [
        {
          "name": "stdout",
          "output_type": "stream",
          "text": [
            "MSE: 1.031097911226328\n",
            "RMSE: 1.0154299144826924\n",
            "R2: 0.9932441239859163\n",
            "절편: 1.0233406125945343\n"
          ]
        }
      ],
      "source": [
        "mse = mean_squared_error(y_test_in, predictions)\n",
        "print(\"MSE:\", mse)\n",
        "rmse = np.sqrt(mse)\n",
        "print(\"RMSE:\", rmse)\n",
        "print(\"R2:\", r2_score(y_test_in, predictions))\n",
        "print(\"절편:\", model.intercept_)"
      ]
    },
    {
      "cell_type": "code",
      "execution_count": null,
      "id": "73b70634-deaf-4aa7-9065-974533c68cd8",
      "metadata": {
        "id": "73b70634-deaf-4aa7-9065-974533c68cd8",
        "outputId": "7fe32ec7-3bd0-4a42-b887-efaafc389240"
      },
      "outputs": [
        {
          "name": "stdout",
          "output_type": "stream",
          "text": [
            "                                 OLS Regression Results                                \n",
            "=======================================================================================\n",
            "Dep. Variable:                      y   R-squared (uncentered):                   0.998\n",
            "Model:                            OLS   Adj. R-squared (uncentered):              0.998\n",
            "Method:                 Least Squares   F-statistic:                          1.707e+07\n",
            "Date:                Sat, 27 Aug 2022   Prob (F-statistic):                        0.00\n",
            "Time:                        05:40:00   Log-Likelihood:                     -4.6602e+05\n",
            "No. Observations:              310317   AIC:                                  9.321e+05\n",
            "Df Residuals:                  310308   BIC:                                  9.322e+05\n",
            "Df Model:                           9                                                  \n",
            "Covariance Type:            nonrobust                                                  \n",
            "==============================================================================\n",
            "                 coef    std err          t      P>|t|      [0.025      0.975]\n",
            "------------------------------------------------------------------------------\n",
            "x1             0.2978      0.003    107.842      0.000       0.292       0.303\n",
            "x2             4.3980      0.019    234.581      0.000       4.361       4.435\n",
            "x3             0.0272      0.000    152.579      0.000       0.027       0.028\n",
            "x4            -0.1574      0.004    -37.027      0.000      -0.166      -0.149\n",
            "x5            -1.4881      0.035    -42.498      0.000      -1.557      -1.420\n",
            "x6            -0.0126      0.000    -63.574      0.000      -0.013      -0.012\n",
            "x7            -0.0881      0.002    -35.392      0.000      -0.093      -0.083\n",
            "x8            -1.9565      0.018   -110.733      0.000      -1.991      -1.922\n",
            "x9            -0.0183      0.000    -93.007      0.000      -0.019      -0.018\n",
            "==============================================================================\n",
            "Omnibus:                    35634.979   Durbin-Watson:                   1.967\n",
            "Prob(Omnibus):                  0.000   Jarque-Bera (JB):           310541.789\n",
            "Skew:                          -0.213   Prob(JB):                         0.00\n",
            "Kurtosis:                       7.882   Cond. No.                     2.66e+03\n",
            "==============================================================================\n",
            "\n",
            "Notes:\n",
            "[1] R² is computed without centering (uncentered) since the model does not contain a constant.\n",
            "[2] Standard Errors assume that the covariance matrix of the errors is correctly specified.\n",
            "[3] The condition number is large, 2.66e+03. This might indicate that there are\n",
            "strong multicollinearity or other numerical problems.\n"
          ]
        }
      ],
      "source": [
        "# statsmodels module이 없어 설치\n",
        "# pip3 install statsmodels\n",
        "import statsmodels.api as sm\n",
        "\n",
        "#add constant to predictor variables\n",
        "x = sm.add_constant(X_train_in)\n",
        "\n",
        "#fit linear regression model\n",
        "sm_model = sm.OLS(y_train_in, X_train_in).fit()\n",
        "\n",
        "#view model summary\n",
        "print(sm_model.summary())"
      ]
    },
    {
      "cell_type": "code",
      "execution_count": null,
      "id": "6e034368-2b56-498a-81dc-94b7f3e2ad95",
      "metadata": {
        "id": "6e034368-2b56-498a-81dc-94b7f3e2ad95",
        "outputId": "f080619a-0eb2-422a-d88c-fc1b48449ca8"
      },
      "outputs": [
        {
          "name": "stdout",
          "output_type": "stream",
          "text": [
            "out_temp_p  :  0.308 \n",
            "out_temp_5m :  -0.149 \n",
            "out_temp_10m:  -0.016 \n",
            "in_temp_p   :  3.828 \n",
            "in_temp_5m  :  -1.561 \n",
            "in_temp_10m :  -1.43 \n",
            "a_total_p   :  0.023 \n",
            "a_total_5m  :  -0.013 \n",
            "a_total_10m :  -0.017\n"
          ]
        }
      ],
      "source": [
        "cof=np.round(model.coef_,3)\n",
        "print(\"out_temp_p  : \",cof[0],\"\\nout_temp_5m : \",cof[3], \"\\nout_temp_10m: \",cof[6], \"\\nin_temp_p   : \",cof[1],\n",
        "      \"\\nin_temp_5m  : \",cof[4],\"\\nin_temp_10m : \",cof[7],\"\\na_total_p   : \",cof[2],  \"\\na_total_5m  : \",cof[5],  \"\\na_total_10m : \",cof[8])"
      ]
    },
    {
      "cell_type": "markdown",
      "id": "743deb37",
      "metadata": {
        "id": "743deb37"
      },
      "source": [
        "### 3.2.3 Model 검증\n",
        "외부변수(외기온도, 발전전류)값을 고정하고 단자대온도를 5도씩 증가시커 예측치 검증"
      ]
    },
    {
      "cell_type": "code",
      "execution_count": null,
      "id": "c582bd66-d532-4632-a3ec-487d122caa84",
      "metadata": {
        "id": "c582bd66-d532-4632-a3ec-487d122caa84",
        "outputId": "95868a03-7fde-4da8-e181-3dd8557ee682"
      },
      "outputs": [
        {
          "name": "stdout",
          "output_type": "stream",
          "text": [
            "My Test Data Set \n",
            " [[ 33.6  31.4 148.   32.2  31.  146.3  30.4  30.9 113. ]\n",
            " [  9.8  18.4  20.3   9.6  18.4  14.8   9.7  18.4  10.7]\n",
            " [ 52.3  50.5 138.2  52.7  50.1 134.2  52.4  49.6 132.7]\n",
            " [ 19.9  35.   42.3  20.2  35.4  31.7  20.3  36.2  35.1]\n",
            " [ 23.9  23.2 121.3  23.   23.  121.8  23.   22.5 120.5]\n",
            " [ 33.6  36.4 148.   32.2  36.  146.3  30.4  35.9 113. ]\n",
            " [  9.8  23.4  20.3   9.6  23.4  14.8   9.7  23.4  10.7]\n",
            " [ 52.3  55.5 138.2  52.7  55.1 134.2  52.4  54.6 132.7]\n",
            " [ 19.9  40.   42.3  20.2  40.4  31.7  20.3  41.2  35.1]\n",
            " [ 23.9  28.2 121.3  23.   28.  121.8  23.   27.5 120.5]\n",
            " [ 33.6  41.4 148.   32.2  41.  146.3  30.4  40.9 113. ]\n",
            " [  9.8  28.4  20.3   9.6  28.4  14.8   9.7  28.4  10.7]\n",
            " [ 52.3  60.5 138.2  52.7  60.1 134.2  52.4  59.6 132.7]\n",
            " [ 19.9  45.   42.3  20.2  45.4  31.7  20.3  46.2  35.1]\n",
            " [ 23.9  33.2 121.3  23.   33.  121.8  23.   32.5 120.5]\n",
            " [ 33.6  46.4 148.   32.2  46.  146.3  30.4  45.9 113. ]\n",
            " [  9.8  33.4  20.3   9.6  33.4  14.8   9.7  33.4  10.7]\n",
            " [ 52.3  65.5 138.2  52.7  65.1 134.2  52.4  64.6 132.7]\n",
            " [ 19.9  50.   42.3  20.2  50.4  31.7  20.3  51.2  35.1]\n",
            " [ 23.9  38.2 121.3  23.   38.  121.8  23.   37.5 120.5]\n",
            " [ 33.6  51.4 148.   32.2  51.  146.3  30.4  50.9 113. ]\n",
            " [  9.8  38.4  20.3   9.6  38.4  14.8   9.7  38.4  10.7]\n",
            " [ 52.3  70.5 138.2  52.7  70.1 134.2  52.4  69.6 132.7]\n",
            " [ 19.9  55.   42.3  20.2  55.4  31.7  20.3  56.2  35.1]\n",
            " [ 23.9  43.2 121.3  23.   43.  121.8  23.   42.5 120.5]\n",
            " [ 33.6  56.4 148.   32.2  56.  146.3  30.4  55.9 113. ]\n",
            " [  9.8  43.4  20.3   9.6  43.4  14.8   9.7  43.4  10.7]\n",
            " [ 52.3  75.5 138.2  52.7  75.1 134.2  52.4  74.6 132.7]\n",
            " [ 19.9  60.   42.3  20.2  60.4  31.7  20.3  61.2  35.1]\n",
            " [ 23.9  48.2 121.3  23.   48.  121.8  23.   47.5 120.5]\n",
            " [ 33.6  61.4 148.   32.2  61.  146.3  30.4  60.9 113. ]\n",
            " [  9.8  48.4  20.3   9.6  48.4  14.8   9.7  48.4  10.7]\n",
            " [ 52.3  80.5 138.2  52.7  80.1 134.2  52.4  79.6 132.7]\n",
            " [ 19.9  65.   42.3  20.2  65.4  31.7  20.3  66.2  35.1]\n",
            " [ 23.9  53.2 121.3  23.   53.  121.8  23.   52.5 120.5]]\n",
            "Predicted labels:  [33. 18. 52. 31. 24. 37. 22. 56. 35. 29. 42. 26. 60. 39. 33. 46. 30. 64.\n",
            " 43. 37. 50. 35. 68. 47. 41. 54. 39. 73. 52. 45. 58. 43. 77. 56. 50.]\n"
          ]
        }
      ],
      "source": [
        "#np.round( X_train_in[45200:45205],2)\n",
        "#array([[  9.8,  13.4,  20.3,   9.6,  13.4,  14.8,   9.7,  13.4,  10.7],\n",
        "#       [ 52.3,  45.5, 138.2,  52.7,  45.1, 134.2,  52.4,  44.6, 132.7],\n",
        "#       [ 23.9,  18.2, 121.3,  23. ,  18. , 121.8,  23. ,  17.5, 120.5],\n",
        "#       [ 19.9,  30. ,  42.3,  20.2,  30.4,  31.7,  20.3,  31.2,  35.1],\n",
        "#       [ 33.6,  26.4, 148. ,  32.2,  26. , 146.3,  30.4,  25.9, 113. ]])\n",
        "Xtest=[[]]\n",
        "Xtest.clear()\n",
        "for itemp in range(5,40,5):\n",
        "    Xtest.append([33.6,  26.4+itemp, 148. ,  32.2,  26.+itemp , 146.3,  30.4,  25.9+itemp, 113.])\n",
        "    Xtest.append([ 9.8,  13.4+itemp,  20.3,   9.6,  13.4+itemp,  14.8,   9.7,  13.4+itemp,  10.7])\n",
        "    Xtest.append([52.3,  45.5+itemp, 138.2,  52.7,  45.1+itemp, 134.2,  52.4,  44.6+itemp, 132.7])\n",
        "    Xtest.append([19.9,  30.+itemp ,  42.3,  20.2,  30.4+itemp,  31.7,  20.3,  31.2+itemp,  35.1])\n",
        "    Xtest.append([ 23.9,  18.2+itemp, 121.3,  23. ,  18.+itemp , 121.8,  23. ,  17.5+itemp, 120.5])\n",
        "\n",
        "print(\"My Test Data Set \\n\",np.round(Xtest,2))\n",
        "predictions = model.predict(Xtest)\n",
        "np.set_printoptions(suppress=True)\n",
        "print('Predicted labels: ', np.round(predictions))"
      ]
    },
    {
      "cell_type": "code",
      "execution_count": null,
      "id": "621ca598-67ef-4716-b078-e0150c288cd2",
      "metadata": {
        "id": "621ca598-67ef-4716-b078-e0150c288cd2",
        "outputId": "592a6225-e184-4996-9b24-7d518c6bbe22"
      },
      "outputs": [
        {
          "name": "stdout",
          "output_type": "stream",
          "text": [
            "현재온도  [31.4 18.4 50.5 35.  23.2 36.4 23.4 55.5 40.  28.2 41.4 28.4 60.5 45.\n",
            " 33.2 46.4 33.4 65.5 50.  38.2 51.4 38.4 70.5 55.  43.2 56.4 43.4 75.5\n",
            " 60.  48.2 61.4 48.4 80.5 65.  53.2]\n",
            "예측온도  [33. 18. 52. 31. 24. 37. 22. 56. 35. 29. 42. 26. 60. 39. 33. 46. 30. 64.\n",
            " 43. 37. 50. 35. 68. 47. 41. 54. 39. 73. 52. 45. 58. 43. 77. 56. 50.]\n"
          ]
        }
      ],
      "source": [
        "nXtest=np.round(Xtest,2)\n",
        "\n",
        "print(\"현재온도 \",nXtest[::,1])\n",
        "print('예측온도 ',np.round(predictions))"
      ]
    },
    {
      "cell_type": "code",
      "execution_count": null,
      "id": "bd85a43c-4adf-4835-a0b9-673f71c05fde",
      "metadata": {
        "id": "bd85a43c-4adf-4835-a0b9-673f71c05fde",
        "outputId": "c4bd5bdc-da57-48ba-8494-34ce5cd56175"
      },
      "outputs": [
        {
          "data": {
            "image/png": "[encoded data removed]",
            "text/plain": [
              "<Figure size 432x288 with 1 Axes>"
            ]
          },
          "metadata": {
            "needs_background": "light"
          },
          "output_type": "display_data"
        }
      ],
      "source": [
        "np.round(predictions)\n",
        "\n",
        "plt.scatter(nXtest[::,1], np.round(predictions))\n",
        "plt.xlabel('현재온도')\n",
        "plt.ylabel('예측온도')\n",
        "plt.title('LinearRegression Model 검증')\n",
        "# overlay the regression line\n",
        "z = np.polyfit(nXtest[::,1], np.round(predictions), 1)\n",
        "p = np.poly1d(z)\n",
        "plt.plot(nXtest[::,1],p(nXtest[::,1]), color='magenta')\n",
        "plt.show()"
      ]
    },
    {
      "cell_type": "markdown",
      "id": "544f7df3-6c75-4a72-9779-2caaeb7e024d",
      "metadata": {
        "id": "544f7df3-6c75-4a72-9779-2caaeb7e024d"
      },
      "source": [
        "## 3.3 RandomForest 학습하기"
      ]
    },
    {
      "cell_type": "code",
      "execution_count": null,
      "id": "fbba40cb-5423-4695-ae42-2eb375e717a0",
      "metadata": {
        "id": "fbba40cb-5423-4695-ae42-2eb375e717a0",
        "outputId": "eb821298-2aa8-43de-e3d1-772df1767b59"
      },
      "outputs": [
        {
          "data": {
            "text/html": [
              "<marquee style='width:50%; color: green;'><B>ATM Fighting!!!!! GoGO RF!!!! Hurry UP Azure!!!!</B></marquee>\n"
            ],
            "text/plain": [
              "<IPython.core.display.HTML object>"
            ]
          },
          "metadata": {},
          "output_type": "display_data"
        }
      ],
      "source": [
        "%%html\n",
        "<marquee style='width:50%; color: green;'><B>ATM Fighting!!!!! GoGO RF!!!! Hurry UP Azure!!!!</B></marquee>"
      ]
    },
    {
      "cell_type": "code",
      "execution_count": null,
      "id": "aed60fc4-46d2-4d33-9b90-1dadb3999408",
      "metadata": {
        "id": "aed60fc4-46d2-4d33-9b90-1dadb3999408",
        "outputId": "ac93a5af-e414-4968-aaa6-6d4785d05967"
      },
      "outputs": [
        {
          "name": "stdout",
          "output_type": "stream",
          "text": [
            "RandomForestRegressor() \n",
            "\n"
          ]
        }
      ],
      "source": [
        "model_r = RandomForestRegressor().fit(X_train_in, y_train_in)\n",
        "print (model_r, \"\\n\")"
      ]
    },
    {
      "cell_type": "markdown",
      "id": "da87a12d-f9e0-4a2c-8771-24a8cae27b77",
      "metadata": {
        "id": "da87a12d-f9e0-4a2c-8771-24a8cae27b77"
      },
      "source": [
        "*test Data*로 확인하기"
      ]
    },
    {
      "cell_type": "code",
      "execution_count": null,
      "id": "029cebb6-6922-414d-8b7f-a1f75fa657fd",
      "metadata": {
        "id": "029cebb6-6922-414d-8b7f-a1f75fa657fd",
        "outputId": "9ba1f68c-8e69-46c2-afdd-15001c8cd143"
      },
      "outputs": [
        {
          "name": "stdout",
          "output_type": "stream",
          "text": [
            "예측치 :  [45.  26.3 24.3 24.5 17.7 29.9 26.6 29.2  9.3  0.5]\n",
            "관측치 :  [43.  26.4 24.1 24.5 17.6 29.9 26.5 29.   9.2  0.5]\n"
          ]
        }
      ],
      "source": [
        "predictions_r = model_r.predict(X_test_in)\n",
        "np.set_printoptions(suppress=True)\n",
        "print('예측치 : ', np.round(predictions_r,1)[:10])\n",
        "print('관측치 : ', np.round(y_test_in,1)[:10])"
      ]
    },
    {
      "cell_type": "markdown",
      "id": "dc532c16-3c6d-4c85-9d5a-a696681d504d",
      "metadata": {
        "id": "dc532c16-3c6d-4c85-9d5a-a696681d504d"
      },
      "source": [
        "### 3.3.1 오차율 확인하기"
      ]
    },
    {
      "cell_type": "code",
      "execution_count": null,
      "id": "8bd0c756-4c1c-42f1-ac5f-d21cb116618b",
      "metadata": {
        "id": "8bd0c756-4c1c-42f1-ac5f-d21cb116618b",
        "outputId": "6fc87622-7e0b-40a5-d9f7-b534bf4423c4"
      },
      "outputs": [
        {
          "data": {
            "image/png": "[encoded data removed]",
            "text/plain": [
              "<Figure size 432x288 with 1 Axes>"
            ]
          },
          "metadata": {
            "needs_background": "light"
          },
          "output_type": "display_data"
        }
      ],
      "source": [
        "plt.scatter(y_test_in, predictions_r)\n",
        "plt.xlabel('Actual Labels')\n",
        "plt.ylabel('Predicted Labels')\n",
        "plt.title('Tempreture predictions')\n",
        "# overlay the regression line\n",
        "z = np.polyfit(y_test_in, predictions_r, 1)\n",
        "p = np.poly1d(z)\n",
        "plt.plot(y_test_in,p(y_test_in), color='magenta')\n",
        "plt.show()"
      ]
    },
    {
      "cell_type": "code",
      "execution_count": null,
      "id": "a2ce7ccd-2950-4970-8060-8c4fd0fcf544",
      "metadata": {
        "id": "a2ce7ccd-2950-4970-8060-8c4fd0fcf544",
        "outputId": "b300cd52-c784-4a53-cc4b-6a52200a1382"
      },
      "outputs": [
        {
          "name": "stdout",
          "output_type": "stream",
          "text": [
            "MSE: 0.3008929120304134\n",
            "RMSE: 0.5485370653204881\n",
            "R2: 0.998028513892753\n"
          ]
        }
      ],
      "source": [
        "mse = mean_squared_error(y_test_in, predictions_r)\n",
        "print(\"MSE:\", mse)\n",
        "rmse = np.sqrt(mse)\n",
        "print(\"RMSE:\", rmse)\n",
        "print(\"R2:\", r2_score(y_test_in, predictions_r))\n"
      ]
    },
    {
      "cell_type": "markdown",
      "id": "7fd4b1f9-d832-4d8a-b4dd-b129012c5b64",
      "metadata": {
        "id": "7fd4b1f9-d832-4d8a-b4dd-b129012c5b64"
      },
      "source": [
        "### 3.3.2  Model 검증\n",
        "외부변수(외기온도, 발전전류)값을 고정하고 단자대온도를 5도씩 증가시커 예측치 검증"
      ]
    },
    {
      "cell_type": "code",
      "execution_count": null,
      "id": "de1b0a2b-312e-40d2-9255-2dada5fb3e5f",
      "metadata": {
        "id": "de1b0a2b-312e-40d2-9255-2dada5fb3e5f",
        "outputId": "d6ac7aad-aea7-4982-919c-933423835035"
      },
      "outputs": [
        {
          "name": "stdout",
          "output_type": "stream",
          "text": [
            "My Test Data Set \n",
            " [[ 33.6  31.4 148.   32.2  31.  146.3  30.4  30.9 113. ]\n",
            " [  9.8  18.4  20.3   9.6  18.4  14.8   9.7  18.4  10.7]\n",
            " [ 52.3  50.5 138.2  52.7  50.1 134.2  52.4  49.6 132.7]\n",
            " [ 19.9  35.   42.3  20.2  35.4  31.7  20.3  36.2  35.1]\n",
            " [ 23.9  23.2 121.3  23.   23.  121.8  23.   22.5 120.5]\n",
            " [ 33.6  36.4 148.   32.2  36.  146.3  30.4  35.9 113. ]\n",
            " [  9.8  23.4  20.3   9.6  23.4  14.8   9.7  23.4  10.7]\n",
            " [ 52.3  55.5 138.2  52.7  55.1 134.2  52.4  54.6 132.7]\n",
            " [ 19.9  40.   42.3  20.2  40.4  31.7  20.3  41.2  35.1]\n",
            " [ 23.9  28.2 121.3  23.   28.  121.8  23.   27.5 120.5]\n",
            " [ 33.6  41.4 148.   32.2  41.  146.3  30.4  40.9 113. ]\n",
            " [  9.8  28.4  20.3   9.6  28.4  14.8   9.7  28.4  10.7]\n",
            " [ 52.3  60.5 138.2  52.7  60.1 134.2  52.4  59.6 132.7]\n",
            " [ 19.9  45.   42.3  20.2  45.4  31.7  20.3  46.2  35.1]\n",
            " [ 23.9  33.2 121.3  23.   33.  121.8  23.   32.5 120.5]\n",
            " [ 33.6  46.4 148.   32.2  46.  146.3  30.4  45.9 113. ]\n",
            " [  9.8  33.4  20.3   9.6  33.4  14.8   9.7  33.4  10.7]\n",
            " [ 52.3  65.5 138.2  52.7  65.1 134.2  52.4  64.6 132.7]\n",
            " [ 19.9  50.   42.3  20.2  50.4  31.7  20.3  51.2  35.1]\n",
            " [ 23.9  38.2 121.3  23.   38.  121.8  23.   37.5 120.5]\n",
            " [ 33.6  51.4 148.   32.2  51.  146.3  30.4  50.9 113. ]\n",
            " [  9.8  38.4  20.3   9.6  38.4  14.8   9.7  38.4  10.7]\n",
            " [ 52.3  70.5 138.2  52.7  70.1 134.2  52.4  69.6 132.7]\n",
            " [ 19.9  55.   42.3  20.2  55.4  31.7  20.3  56.2  35.1]\n",
            " [ 23.9  43.2 121.3  23.   43.  121.8  23.   42.5 120.5]\n",
            " [ 33.6  56.4 148.   32.2  56.  146.3  30.4  55.9 113. ]\n",
            " [  9.8  43.4  20.3   9.6  43.4  14.8   9.7  43.4  10.7]\n",
            " [ 52.3  75.5 138.2  52.7  75.1 134.2  52.4  74.6 132.7]\n",
            " [ 19.9  60.   42.3  20.2  60.4  31.7  20.3  61.2  35.1]\n",
            " [ 23.9  48.2 121.3  23.   48.  121.8  23.   47.5 120.5]\n",
            " [ 33.6  61.4 148.   32.2  61.  146.3  30.4  60.9 113. ]\n",
            " [  9.8  48.4  20.3   9.6  48.4  14.8   9.7  48.4  10.7]\n",
            " [ 52.3  80.5 138.2  52.7  80.1 134.2  52.4  79.6 132.7]\n",
            " [ 19.9  65.   42.3  20.2  65.4  31.7  20.3  66.2  35.1]\n",
            " [ 23.9  53.2 121.3  23.   53.  121.8  23.   52.5 120.5]]\n",
            "Predicted labels:  [32. 16. 51. 31. 25. 38. 19. 51. 36. 28. 38. 23. 51. 41. 32. 45. 28. 51.\n",
            " 47. 36. 52. 34. 51. 48. 41. 51. 39. 51. 48. 47. 51. 43. 51. 48. 51.]\n"
          ]
        }
      ],
      "source": [
        "#np.round( X_train_in[45200:45205],2)\n",
        "#array([[  9.8,  13.4,  20.3,   9.6,  13.4,  14.8,   9.7,  13.4,  10.7],\n",
        "#       [ 52.3,  45.5, 138.2,  52.7,  45.1, 134.2,  52.4,  44.6, 132.7],\n",
        "#       [ 23.9,  18.2, 121.3,  23. ,  18. , 121.8,  23. ,  17.5, 120.5],\n",
        "#       [ 19.9,  30. ,  42.3,  20.2,  30.4,  31.7,  20.3,  31.2,  35.1],\n",
        "#       [ 33.6,  26.4, 148. ,  32.2,  26. , 146.3,  30.4,  25.9, 113. ]])\n",
        "Xtest=[[]]\n",
        "Xtest.clear()\n",
        "for itemp in range(5,40,5):\n",
        "    Xtest.append([33.6,  26.4+itemp, 148. ,  32.2,  26.+itemp , 146.3,  30.4,  25.9+itemp, 113.])\n",
        "    Xtest.append([ 9.8,  13.4+itemp,  20.3,   9.6,  13.4+itemp,  14.8,   9.7,  13.4+itemp,  10.7])\n",
        "    Xtest.append([52.3,  45.5+itemp, 138.2,  52.7,  45.1+itemp, 134.2,  52.4,  44.6+itemp, 132.7])\n",
        "    Xtest.append([19.9,  30.+itemp ,  42.3,  20.2,  30.4+itemp,  31.7,  20.3,  31.2+itemp,  35.1])\n",
        "    Xtest.append([ 23.9,  18.2+itemp, 121.3,  23. ,  18.+itemp , 121.8,  23. ,  17.5+itemp, 120.5])\n",
        "\n",
        "print(\"My Test Data Set \\n\",np.round(Xtest,2))\n",
        "predictions_r = model_r.predict(Xtest)\n",
        "np.set_printoptions(suppress=True)\n",
        "print('Predicted labels: ', np.round(predictions_r))"
      ]
    },
    {
      "cell_type": "code",
      "execution_count": null,
      "id": "7a19f5fc-52dc-4175-9f49-69390cbb0943",
      "metadata": {
        "id": "7a19f5fc-52dc-4175-9f49-69390cbb0943",
        "outputId": "ae24661b-9490-49ac-ed2c-ccdb98de5622"
      },
      "outputs": [
        {
          "name": "stdout",
          "output_type": "stream",
          "text": [
            "현재온도  [31.4 18.4 50.5 35.  23.2 36.4 23.4 55.5 40.  28.2 41.4 28.4 60.5 45.\n",
            " 33.2 46.4 33.4 65.5 50.  38.2 51.4 38.4 70.5 55.  43.2 56.4 43.4 75.5\n",
            " 60.  48.2 61.4 48.4 80.5 65.  53.2]\n",
            "예측온도  [32. 16. 51. 31. 25. 38. 19. 51. 36. 28. 38. 23. 51. 41. 32. 45. 28. 51.\n",
            " 47. 36. 52. 34. 51. 48. 41. 51. 39. 51. 48. 47. 51. 43. 51. 48. 51.]\n"
          ]
        }
      ],
      "source": [
        "nXtest=np.round(Xtest,2)\n",
        "\n",
        "print(\"현재온도 \",nXtest[::,1])\n",
        "print('예측온도 ',np.round(predictions_r))"
      ]
    },
    {
      "cell_type": "code",
      "execution_count": null,
      "id": "43c01dc5-c5d7-41f0-9f81-6fb2bd3ec31b",
      "metadata": {
        "id": "43c01dc5-c5d7-41f0-9f81-6fb2bd3ec31b",
        "outputId": "9135d5a6-f93f-49b9-9b5b-08b992fa632d"
      },
      "outputs": [
        {
          "data": {
            "image/png": "[encoded data removed]",
            "text/plain": [
              "<Figure size 432x288 with 1 Axes>"
            ]
          },
          "metadata": {
            "needs_background": "light"
          },
          "output_type": "display_data"
        }
      ],
      "source": [
        "plt.scatter(nXtest[::,1], np.round(predictions_r))\n",
        "plt.xlabel('현재온도')\n",
        "plt.ylabel('예측온도')\n",
        "plt.title('randomforest Model 검증')\n",
        "# overlay the regression line\n",
        "z = np.polyfit(nXtest[::,1], np.round(predictions_r), 1)\n",
        "p = np.poly1d(z)\n",
        "plt.plot(nXtest[::,1],p(nXtest[::,1]), color='magenta')\n",
        "plt.show()"
      ]
    },
    {
      "cell_type": "markdown",
      "id": "95b89bdd-2dea-444b-8e55-0640a217d32a",
      "metadata": {
        "id": "95b89bdd-2dea-444b-8e55-0640a217d32a"
      },
      "source": [
        "## 3.4  결과"
      ]
    },
    {
      "cell_type": "markdown",
      "id": "407471bd-7be8-41a0-a856-b07ce4ee6cd5",
      "metadata": {
        "id": "407471bd-7be8-41a0-a856-b07ce4ee6cd5"
      },
      "source": [
        "![image.png](attachment:cfe7a3aa-b26a-4bde-a1b5-b320c4d72d39.png)\n",
        "\n",
        "- 오차율이나$R^2$ 값이 RandomForest Model이 우수하였으나 학습되지 않은 예외의 값을 예측해야하는 경우에는 검증과정을 통해서 활용이 어렵다는 결론에 도달하여 **건전성 지표 예측**을 위한 분석 모델은 **선형회귀모델**을 선택하였다"
      ]
    },
    {
      "cell_type": "markdown",
      "id": "69733a3e-5755-40ea-94d3-1004f8725620",
      "metadata": {
        "id": "69733a3e-5755-40ea-94d3-1004f8725620"
      },
      "source": [
        "# 4.접속반 건정성 지표"
      ]
    },
    {
      "cell_type": "markdown",
      "id": "3e2842e2-4b13-4f26-9f8b-e28f14105387",
      "metadata": {
        "id": "3e2842e2-4b13-4f26-9f8b-e28f14105387"
      },
      "source": [
        "![image.png](attachment:145dda61-db72-4c48-a34d-5f59ba318116.png)\n",
        "\n",
        "- 실측 단자대 온도중 최대 온도를 52.1°C를 정상 작동한 최대 온도를 기준을 정상 작동 온도의 100%로 설정한다.\n",
        "- 실측 단자대 온도 10% 위치별 온도 통계치 결과 6°C의 등간격을 유지하고 있고 최대치인 52.1°C에서 정상 동작한바 이를 최소의 기준으로 10%씩(6°C) 증가시켜 110%(노랑 주의), 120%(주황 주의), 130%(빨강 주의) 판단 지표를 설정한다."
      ]
    },
    {
      "cell_type": "markdown",
      "id": "08a60d4d-fb45-4831-9315-3dd31a165775",
      "metadata": {
        "id": "08a60d4d-fb45-4831-9315-3dd31a165775"
      },
      "source": [
        "## 4.1 건정성 지표의 시각화"
      ]
    },
    {
      "cell_type": "code",
      "execution_count": null,
      "id": "147aae97-ccf6-409a-aab8-ec84fb8741a4",
      "metadata": {
        "id": "147aae97-ccf6-409a-aab8-ec84fb8741a4"
      },
      "outputs": [],
      "source": [
        "import matplotlib.pyplot as plt\n",
        "import matplotlib.image as img\n",
        "\n",
        "img_test1 = img.imread('E:/signal/Green.png')\n",
        "img_test2 = img.imread('E:/signal/Yellow.png')\n",
        "img_test3 = img.imread('E:/signal/Orange.png')\n",
        "img_test4 = img.imread('E:/signal/Red.png')\n",
        "img_a = [img_test1,img_test2,img_test3,img_test4]\n",
        "\n",
        "y_1 = 58.1\n",
        "y_2 = 64.1\n",
        "y_3 = 70.1"
      ]
    },
    {
      "cell_type": "markdown",
      "id": "4f6e707c-879b-4a0e-9da5-ef658c9736a6",
      "metadata": {
        "id": "4f6e707c-879b-4a0e-9da5-ef658c9736a6"
      },
      "source": [
        "온도를 예측할 임의의 변수값을 입력한다."
      ]
    },
    {
      "cell_type": "code",
      "execution_count": null,
      "id": "a0110352-eacb-47b9-97a7-a4909b8220f9",
      "metadata": {
        "id": "a0110352-eacb-47b9-97a7-a4909b8220f9"
      },
      "outputs": [],
      "source": [
        "# TestDataSet 입력\n",
        "pOutTemp=input(\"  현재 외기 온도(ex : 12.9)  : \")\n",
        "pOutTemp=float(pOutTemp)\n",
        "pCtemp=input(\"  현재 단자대온도(ex : 23.1) : \")\n",
        "pCtemp=float(pCtemp)\n",
        "pGenA=input(\"  현재 발전 전류(ex : 0.4)   : \")\n",
        "pGenA=float(pGenA)\n",
        "\n",
        "pOutTemp5=input(\" 5분전 외기 온도(ex : 12.9)  : \")\n",
        "pOutTemp5=float(pOutTemp5)\n",
        "pCtemp5=input(\" 5분전 단자대온도(ex : 23.1) : \")\n",
        "pCtemp5=float(pCtemp5)\n",
        "pGenA5=input(\" 5분전 발전 전류(ex : 0.4)   : \")\n",
        "pGenA5=float(pGenA5)\n",
        "\n",
        "pOutTemp10=input(\"10분전 외기 온도(ex : 12.9)  : \")\n",
        "pOutTemp10=float(pOutTemp10)\n",
        "pCtemp10=input(\"10분전 단자대온도(ex : 23.1) : \")\n",
        "pCtemp10=float(pCtemp10)\n",
        "pGenA10=input(\"10분전 발전 전류(ex : 0.4)   : \")\n",
        "pGenA10=float(pGenA10)\n",
        "\n",
        "my_test_1=[[pOutTemp, pCtemp, pGenA, pOutTemp5, pCtemp5, pGenA5, pOutTemp10, pCtemp10, pGenA10]]\n",
        "print(\"Input Test Data Set : \",my_test_1)\n",
        "\n",
        "# LinearRegression Prediction\n",
        "predictions_L = model.predict(my_test_1)\n",
        "print('LinearRegression Model ',iTime,'분후 단자대 예측온도: ', predictions_L)\n",
        "\n",
        "x_L = predictions_L\n",
        "\n",
        "if x_L <= y_1: # 정상\n",
        "    plt.imshow(img_a[0])\n",
        "elif x_L > y_1 and x_L <=y_2: # 주의\n",
        "    plt.imshow(img_a[1])\n",
        "elif x_L > y_2 and x_L <=y_3: # 경고\n",
        "    plt.imshow(img_a[2])\n",
        "elif x_L > y_3 : # 위험\n",
        "    plt.imshow(img_a[3])\n",
        "plt.show()\n"
      ]
    }
  ],
  "metadata": {
    "kernelspec": {
      "display_name": "Python 3 (ipykernel)",
      "language": "python",
      "name": "python3"
    },
    "language_info": {
      "codemirror_mode": {
        "name": "ipython",
        "version": 3
      },
      "file_extension": ".py",
      "mimetype": "text/x-python",
      "name": "python",
      "nbconvert_exporter": "python",
      "pygments_lexer": "ipython3",
      "version": "3.10.10"
    },
    "colab": {
      "provenance": [],
      "toc_visible": true,
      "include_colab_link": true
    }
  },
  "nbformat": 4,
  "nbformat_minor": 5
}